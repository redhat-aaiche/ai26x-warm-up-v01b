{
 "cells": [
  {
   "cell_type": "markdown",
   "id": "a80e6c09-425f-4bbd-a2f7-0e9690ccc1cb",
   "metadata": {},
   "source": [
    "# Linear Regression"
   ]
  },
  {
   "cell_type": "markdown",
   "id": "820d2d23-0100-4751-a353-3ac5dc6d199e",
   "metadata": {},
   "source": [
    "---"
   ]
  },
  {
   "cell_type": "code",
   "execution_count": 1,
   "id": "a913d2e2-5bc6-45d8-80d3-3bd36a63fe47",
   "metadata": {},
   "outputs": [
    {
     "name": "stdout",
     "output_type": "stream",
     "text": [
      "Requirement already satisfied: numpy in /home/aaiche/anaconda3/lib/python3.11/site-packages (1.23.5)\n"
     ]
    }
   ],
   "source": [
    "!pip install numpy"
   ]
  },
  {
   "cell_type": "code",
   "execution_count": 2,
   "id": "4708d2ea-8ce6-4bc1-90f8-383650c56555",
   "metadata": {},
   "outputs": [
    {
     "name": "stdout",
     "output_type": "stream",
     "text": [
      "Requirement already satisfied: pandas in /home/aaiche/anaconda3/lib/python3.11/site-packages (2.1.4)\n",
      "Requirement already satisfied: numpy<2,>=1.23.2 in /home/aaiche/anaconda3/lib/python3.11/site-packages (from pandas) (1.23.5)\n",
      "Requirement already satisfied: python-dateutil>=2.8.2 in /home/aaiche/anaconda3/lib/python3.11/site-packages (from pandas) (2.8.2)\n",
      "Requirement already satisfied: pytz>=2020.1 in /home/aaiche/anaconda3/lib/python3.11/site-packages (from pandas) (2023.3.post1)\n",
      "Requirement already satisfied: tzdata>=2022.1 in /home/aaiche/anaconda3/lib/python3.11/site-packages (from pandas) (2023.3)\n",
      "Requirement already satisfied: six>=1.5 in /home/aaiche/anaconda3/lib/python3.11/site-packages (from python-dateutil>=2.8.2->pandas) (1.16.0)\n"
     ]
    }
   ],
   "source": [
    "!pip install pandas"
   ]
  },
  {
   "cell_type": "code",
   "execution_count": 3,
   "id": "3cb8d1b6-5ef5-4008-bacd-58338178cd47",
   "metadata": {},
   "outputs": [
    {
     "name": "stdout",
     "output_type": "stream",
     "text": [
      "Requirement already satisfied: matplotlib in /home/aaiche/anaconda3/lib/python3.11/site-packages (3.8.0)\n",
      "Requirement already satisfied: contourpy>=1.0.1 in /home/aaiche/anaconda3/lib/python3.11/site-packages (from matplotlib) (1.2.0)\n",
      "Requirement already satisfied: cycler>=0.10 in /home/aaiche/anaconda3/lib/python3.11/site-packages (from matplotlib) (0.11.0)\n",
      "Requirement already satisfied: fonttools>=4.22.0 in /home/aaiche/anaconda3/lib/python3.11/site-packages (from matplotlib) (4.25.0)\n",
      "Requirement already satisfied: kiwisolver>=1.0.1 in /home/aaiche/anaconda3/lib/python3.11/site-packages (from matplotlib) (1.4.4)\n",
      "Requirement already satisfied: numpy<2,>=1.21 in /home/aaiche/anaconda3/lib/python3.11/site-packages (from matplotlib) (1.23.5)\n",
      "Requirement already satisfied: packaging>=20.0 in /home/aaiche/anaconda3/lib/python3.11/site-packages (from matplotlib) (23.1)\n",
      "Requirement already satisfied: pillow>=6.2.0 in /home/aaiche/anaconda3/lib/python3.11/site-packages (from matplotlib) (10.2.0)\n",
      "Requirement already satisfied: pyparsing>=2.3.1 in /home/aaiche/anaconda3/lib/python3.11/site-packages (from matplotlib) (3.0.9)\n",
      "Requirement already satisfied: python-dateutil>=2.7 in /home/aaiche/anaconda3/lib/python3.11/site-packages (from matplotlib) (2.8.2)\n",
      "Requirement already satisfied: six>=1.5 in /home/aaiche/anaconda3/lib/python3.11/site-packages (from python-dateutil>=2.7->matplotlib) (1.16.0)\n"
     ]
    }
   ],
   "source": [
    "!pip install matplotlib"
   ]
  },
  {
   "cell_type": "code",
   "execution_count": 4,
   "id": "38fdbb28-4af3-416f-8803-3da28f54c70f",
   "metadata": {},
   "outputs": [
    {
     "name": "stdout",
     "output_type": "stream",
     "text": [
      "Requirement already satisfied: seaborn in /home/aaiche/anaconda3/lib/python3.11/site-packages (0.12.2)\n",
      "Requirement already satisfied: numpy!=1.24.0,>=1.17 in /home/aaiche/anaconda3/lib/python3.11/site-packages (from seaborn) (1.23.5)\n",
      "Requirement already satisfied: pandas>=0.25 in /home/aaiche/anaconda3/lib/python3.11/site-packages (from seaborn) (2.1.4)\n",
      "Requirement already satisfied: matplotlib!=3.6.1,>=3.1 in /home/aaiche/anaconda3/lib/python3.11/site-packages (from seaborn) (3.8.0)\n",
      "Requirement already satisfied: contourpy>=1.0.1 in /home/aaiche/anaconda3/lib/python3.11/site-packages (from matplotlib!=3.6.1,>=3.1->seaborn) (1.2.0)\n",
      "Requirement already satisfied: cycler>=0.10 in /home/aaiche/anaconda3/lib/python3.11/site-packages (from matplotlib!=3.6.1,>=3.1->seaborn) (0.11.0)\n",
      "Requirement already satisfied: fonttools>=4.22.0 in /home/aaiche/anaconda3/lib/python3.11/site-packages (from matplotlib!=3.6.1,>=3.1->seaborn) (4.25.0)\n",
      "Requirement already satisfied: kiwisolver>=1.0.1 in /home/aaiche/anaconda3/lib/python3.11/site-packages (from matplotlib!=3.6.1,>=3.1->seaborn) (1.4.4)\n",
      "Requirement already satisfied: packaging>=20.0 in /home/aaiche/anaconda3/lib/python3.11/site-packages (from matplotlib!=3.6.1,>=3.1->seaborn) (23.1)\n",
      "Requirement already satisfied: pillow>=6.2.0 in /home/aaiche/anaconda3/lib/python3.11/site-packages (from matplotlib!=3.6.1,>=3.1->seaborn) (10.2.0)\n",
      "Requirement already satisfied: pyparsing>=2.3.1 in /home/aaiche/anaconda3/lib/python3.11/site-packages (from matplotlib!=3.6.1,>=3.1->seaborn) (3.0.9)\n",
      "Requirement already satisfied: python-dateutil>=2.7 in /home/aaiche/anaconda3/lib/python3.11/site-packages (from matplotlib!=3.6.1,>=3.1->seaborn) (2.8.2)\n",
      "Requirement already satisfied: pytz>=2020.1 in /home/aaiche/anaconda3/lib/python3.11/site-packages (from pandas>=0.25->seaborn) (2023.3.post1)\n",
      "Requirement already satisfied: tzdata>=2022.1 in /home/aaiche/anaconda3/lib/python3.11/site-packages (from pandas>=0.25->seaborn) (2023.3)\n",
      "Requirement already satisfied: six>=1.5 in /home/aaiche/anaconda3/lib/python3.11/site-packages (from python-dateutil>=2.7->matplotlib!=3.6.1,>=3.1->seaborn) (1.16.0)\n"
     ]
    }
   ],
   "source": [
    "!pip install seaborn"
   ]
  },
  {
   "cell_type": "code",
   "execution_count": null,
   "id": "844623bd-cc31-4faa-8fe2-d5f0d95ca2fd",
   "metadata": {},
   "outputs": [],
   "source": []
  },
  {
   "cell_type": "markdown",
   "id": "52acd37f-e9f5-4a68-bc54-d8b6ea439b80",
   "metadata": {},
   "source": [
    "## 2. Import the required libraries"
   ]
  },
  {
   "cell_type": "code",
   "execution_count": 5,
   "id": "21f669b8-ad77-4f8d-a227-d5a02a168e03",
   "metadata": {},
   "outputs": [],
   "source": [
    "import pandas as pd \n",
    "import numpy as np \n",
    "import matplotlib.pyplot as plt \n",
    "import seaborn as sns "
   ]
  },
  {
   "cell_type": "code",
   "execution_count": null,
   "id": "dea680c6-0ada-4faf-8c19-1ba7d6486fc4",
   "metadata": {},
   "outputs": [],
   "source": []
  },
  {
   "cell_type": "markdown",
   "id": "2decb367-d6d0-4fe6-9d52-f37b31b2e1a2",
   "metadata": {},
   "source": [
    "## 3. Load Data"
   ]
  },
  {
   "cell_type": "code",
   "execution_count": 6,
   "id": "d646716f-ca9f-4216-99a9-b4ad4be50c60",
   "metadata": {},
   "outputs": [],
   "source": [
    "# Load data\n",
    "train_data = pd.read_csv('data/myfileCleaned.csv')\n",
    "# Separate features and target variable\n",
    "#X_train = train_data.drop(['SalePrice'], axis=1)\n",
    "y = train_data['y']"
   ]
  },
  {
   "cell_type": "code",
   "execution_count": 7,
   "id": "53dedc60-6e17-402f-9766-3a5c9dd8750c",
   "metadata": {},
   "outputs": [
    {
     "data": {
      "text/html": [
       "<div>\n",
       "<style scoped>\n",
       "    .dataframe tbody tr th:only-of-type {\n",
       "        vertical-align: middle;\n",
       "    }\n",
       "\n",
       "    .dataframe tbody tr th {\n",
       "        vertical-align: top;\n",
       "    }\n",
       "\n",
       "    .dataframe thead th {\n",
       "        text-align: right;\n",
       "    }\n",
       "</style>\n",
       "<table border=\"1\" class=\"dataframe\">\n",
       "  <thead>\n",
       "    <tr style=\"text-align: right;\">\n",
       "      <th></th>\n",
       "      <th>x</th>\n",
       "      <th>y</th>\n",
       "      <th>x2</th>\n",
       "      <th>x3</th>\n",
       "      <th>x4</th>\n",
       "      <th>G_F</th>\n",
       "      <th>G_M</th>\n",
       "    </tr>\n",
       "  </thead>\n",
       "  <tbody>\n",
       "    <tr>\n",
       "      <th>0</th>\n",
       "      <td>400.0</td>\n",
       "      <td>1220.253196</td>\n",
       "      <td>6710.023723</td>\n",
       "      <td>-79427.003082</td>\n",
       "      <td>-4021.199462</td>\n",
       "      <td>True</td>\n",
       "      <td>False</td>\n",
       "    </tr>\n",
       "    <tr>\n",
       "      <th>1</th>\n",
       "      <td>401.0</td>\n",
       "      <td>1223.000748</td>\n",
       "      <td>4304.634351</td>\n",
       "      <td>45768.892513</td>\n",
       "      <td>15361.328422</td>\n",
       "      <td>True</td>\n",
       "      <td>False</td>\n",
       "    </tr>\n",
       "    <tr>\n",
       "      <th>2</th>\n",
       "      <td>402.0</td>\n",
       "      <td>1226.373344</td>\n",
       "      <td>-21070.297460</td>\n",
       "      <td>-32163.825243</td>\n",
       "      <td>47041.438421</td>\n",
       "      <td>True</td>\n",
       "      <td>False</td>\n",
       "    </tr>\n",
       "    <tr>\n",
       "      <th>3</th>\n",
       "      <td>403.0</td>\n",
       "      <td>1228.472848</td>\n",
       "      <td>5994.735403</td>\n",
       "      <td>-79510.499359</td>\n",
       "      <td>19623.065340</td>\n",
       "      <td>True</td>\n",
       "      <td>False</td>\n",
       "    </tr>\n",
       "    <tr>\n",
       "      <th>4</th>\n",
       "      <td>404.0</td>\n",
       "      <td>1231.728254</td>\n",
       "      <td>-2143.978443</td>\n",
       "      <td>54671.669602</td>\n",
       "      <td>-2219.846433</td>\n",
       "      <td>True</td>\n",
       "      <td>False</td>\n",
       "    </tr>\n",
       "    <tr>\n",
       "      <th>...</th>\n",
       "      <td>...</td>\n",
       "      <td>...</td>\n",
       "      <td>...</td>\n",
       "      <td>...</td>\n",
       "      <td>...</td>\n",
       "      <td>...</td>\n",
       "      <td>...</td>\n",
       "    </tr>\n",
       "    <tr>\n",
       "      <th>1197</th>\n",
       "      <td>996.0</td>\n",
       "      <td>2998.083156</td>\n",
       "      <td>11051.635639</td>\n",
       "      <td>47019.829206</td>\n",
       "      <td>6238.707096</td>\n",
       "      <td>False</td>\n",
       "      <td>True</td>\n",
       "    </tr>\n",
       "    <tr>\n",
       "      <th>1198</th>\n",
       "      <td>997.0</td>\n",
       "      <td>3000.995219</td>\n",
       "      <td>-1152.332640</td>\n",
       "      <td>-22357.353789</td>\n",
       "      <td>22851.329598</td>\n",
       "      <td>False</td>\n",
       "      <td>True</td>\n",
       "    </tr>\n",
       "    <tr>\n",
       "      <th>1199</th>\n",
       "      <td>998.0</td>\n",
       "      <td>3004.019960</td>\n",
       "      <td>-1115.006412</td>\n",
       "      <td>-38096.648784</td>\n",
       "      <td>-55434.725806</td>\n",
       "      <td>False</td>\n",
       "      <td>True</td>\n",
       "    </tr>\n",
       "    <tr>\n",
       "      <th>1200</th>\n",
       "      <td>999.0</td>\n",
       "      <td>3007.099134</td>\n",
       "      <td>-8576.809778</td>\n",
       "      <td>-35320.710806</td>\n",
       "      <td>36364.273902</td>\n",
       "      <td>False</td>\n",
       "      <td>True</td>\n",
       "    </tr>\n",
       "    <tr>\n",
       "      <th>1201</th>\n",
       "      <td>1000.0</td>\n",
       "      <td>3010.249025</td>\n",
       "      <td>6419.732901</td>\n",
       "      <td>30887.761655</td>\n",
       "      <td>12647.255374</td>\n",
       "      <td>False</td>\n",
       "      <td>True</td>\n",
       "    </tr>\n",
       "  </tbody>\n",
       "</table>\n",
       "<p>1202 rows × 7 columns</p>\n",
       "</div>"
      ],
      "text/plain": [
       "           x            y            x2            x3            x4    G_F  \\\n",
       "0      400.0  1220.253196   6710.023723 -79427.003082  -4021.199462   True   \n",
       "1      401.0  1223.000748   4304.634351  45768.892513  15361.328422   True   \n",
       "2      402.0  1226.373344 -21070.297460 -32163.825243  47041.438421   True   \n",
       "3      403.0  1228.472848   5994.735403 -79510.499359  19623.065340   True   \n",
       "4      404.0  1231.728254  -2143.978443  54671.669602  -2219.846433   True   \n",
       "...      ...          ...           ...           ...           ...    ...   \n",
       "1197   996.0  2998.083156  11051.635639  47019.829206   6238.707096  False   \n",
       "1198   997.0  3000.995219  -1152.332640 -22357.353789  22851.329598  False   \n",
       "1199   998.0  3004.019960  -1115.006412 -38096.648784 -55434.725806  False   \n",
       "1200   999.0  3007.099134  -8576.809778 -35320.710806  36364.273902  False   \n",
       "1201  1000.0  3010.249025   6419.732901  30887.761655  12647.255374  False   \n",
       "\n",
       "        G_M  \n",
       "0     False  \n",
       "1     False  \n",
       "2     False  \n",
       "3     False  \n",
       "4     False  \n",
       "...     ...  \n",
       "1197   True  \n",
       "1198   True  \n",
       "1199   True  \n",
       "1200   True  \n",
       "1201   True  \n",
       "\n",
       "[1202 rows x 7 columns]"
      ]
     },
     "execution_count": 7,
     "metadata": {},
     "output_type": "execute_result"
    }
   ],
   "source": [
    "train_data"
   ]
  },
  {
   "cell_type": "code",
   "execution_count": null,
   "id": "e563cc46-5adc-43a9-a146-8ee42ecb77b5",
   "metadata": {},
   "outputs": [],
   "source": []
  },
  {
   "cell_type": "markdown",
   "id": "7c9587af-0a70-4926-9d5a-faf5414cd467",
   "metadata": {},
   "source": [
    "## 6. Linear Regression\n",
    "**Preparing Some tools :**"
   ]
  },
  {
   "cell_type": "markdown",
   "id": "4bb0f1ec-9102-4fe1-b5ed-26da68ef85a1",
   "metadata": {},
   "source": [
    "**Evaluate the model using Most Common Regression metrics :**\n",
    "\n",
    "https://scikit-learn.org/stable/modules/model_evaluation.html#regression-metrics"
   ]
  },
  {
   "cell_type": "markdown",
   "id": "d921124f-2e18-4e69-9c83-7a4ad569b950",
   "metadata": {},
   "source": [
    "**Mean Absolute Error (MAE) :** \n",
    "\\begin{align*} \n",
    "MAE = \\frac{1}{n} \\Sigma_{i=1}^n |{y}-\\hat{y}|\n",
    "\\end{align*}\n"
   ]
  },
  {
   "cell_type": "markdown",
   "id": "34a544ea-4ecb-4ff2-8463-af4cd5d8f830",
   "metadata": {},
   "source": [
    "**Residual Sum of Squares (RSS) :** \n",
    "\n",
    "\\begin{align*} \n",
    " RSS = \\Sigma_{i=1}^n({y}-\\hat{y})^2\n",
    "\\end{align*}"
   ]
  },
  {
   "cell_type": "markdown",
   "id": "9257e85d-0fe5-46aa-b27e-19919393550b",
   "metadata": {},
   "source": [
    "**Mean Squared Error (MSE) :** \n",
    "\\begin{align*} \n",
    "  MSE = \\frac{1}{n} \\Sigma_{i=1}^n({y}-\\hat{y})^2\n",
    "\\end{align*}\n"
   ]
  },
  {
   "cell_type": "markdown",
   "id": "b1625345-67d8-4930-8678-0b66f655664d",
   "metadata": {},
   "source": [
    "**Root Mean Squared Error (RMSE) :** \n",
    "\\begin{align*} \n",
    "  RMSE = \\sqrt {\\frac{1}{n} \\Sigma_{i=1}^n({y}-\\hat{y})^2 }\n",
    "\\end{align*}\n"
   ]
  },
  {
   "cell_type": "markdown",
   "id": "389be702-94c8-4fe4-a206-5a4a99d9763f",
   "metadata": {},
   "source": [
    "* Comparing these metrics :\n",
    "    * **MAE** is the easiest to understand, because it is the average error\n",
    "    * **MSE** is more popular than MAE, because MSE \"punishes\" larger errors, which tends to be useful in the real world\n",
    "    * **RMSE** is even more popular than MSE, because RMSE is interpretable in the \"y\" units\n",
    "* All of these are **loss functions**, because we want to minimize them"
   ]
  },
  {
   "cell_type": "markdown",
   "id": "4ef2d264-5a3c-4af1-bc1e-169fce7bd38a",
   "metadata": {},
   "source": [
    "**R^2 :** \n",
    "* aka : coefficient of determination\n",
    "* if the model is only prdicting the mean of the targets, R^2 value would be 0\n",
    "  ==> model is poor\n",
    "* if the model is perfectly predicting the targets, R^2 value would be 1"
   ]
  },
  {
   "cell_type": "code",
   "execution_count": 8,
   "id": "fa85adcf-ce76-43e5-8a8c-03f4c02bf769",
   "metadata": {},
   "outputs": [
    {
     "name": "stdout",
     "output_type": "stream",
     "text": [
      "Requirement already satisfied: scikit-learn in /home/aaiche/anaconda3/lib/python3.11/site-packages (1.2.2)\n",
      "Requirement already satisfied: numpy>=1.17.3 in /home/aaiche/anaconda3/lib/python3.11/site-packages (from scikit-learn) (1.23.5)\n",
      "Requirement already satisfied: scipy>=1.3.2 in /home/aaiche/anaconda3/lib/python3.11/site-packages (from scikit-learn) (1.11.4)\n",
      "Requirement already satisfied: joblib>=1.1.1 in /home/aaiche/anaconda3/lib/python3.11/site-packages (from scikit-learn) (1.2.0)\n",
      "Requirement already satisfied: threadpoolctl>=2.0.0 in /home/aaiche/anaconda3/lib/python3.11/site-packages (from scikit-learn) (2.2.0)\n"
     ]
    }
   ],
   "source": [
    "!pip install scikit-learn"
   ]
  },
  {
   "cell_type": "code",
   "execution_count": 9,
   "id": "a04d40ba-05a7-4a9f-a07c-2f019c548fc6",
   "metadata": {},
   "outputs": [],
   "source": [
    "# Create evaluation functions \n",
    "from sklearn.metrics import mean_squared_error, mean_absolute_error, explained_variance_score\n",
    "\n",
    "# Create function to get metrics from predicted values vs true values\n",
    "def get_scores(predictions, y):\n",
    "    \"\"\"\n",
    "    Caculates between predictions and true labels: \n",
    "        - mae,\n",
    "        - mse,\n",
    "        - rmse\n",
    "        - r2\n",
    "    \"\"\"\n",
    "    mae = mean_absolute_error(y, predictions)\n",
    "    mse = mean_squared_error(y, predictions)\n",
    "    rmse = np.sqrt(mse)\n",
    "    r2 = explained_variance_score(y, predictions)\n",
    "    scores = {\"MAE\": mae,\n",
    "              \"MSE\": mse,\n",
    "              \"RMSE\": rmse,\n",
    "              \"R2\": r2\n",
    "              }\n",
    "    return scores\n",
    "\n",
    "def show_scores(scores):\n",
    "    \"\"\"\n",
    "    Shows metrics: \n",
    "        - mae,\n",
    "        - mse,\n",
    "        - rmse\n",
    "        - r2\n",
    "    \"\"\"\n",
    "    print(f\"\\tR^2 : {scores['R2']:.2f}\")\n",
    "    print(f\"\\tMAE : {scores['MAE']:.2f}\")\n",
    "    print(f\"\\tMSE : {scores['MSE']:.2f}\")\n",
    "    print(f\"\\tRMSE : {scores['RMSE']:.2f}\")\n",
    "    print('')\n",
    "\n",
    "def show_scores_data_frame(scores, col_name):\n",
    "    \"\"\"\n",
    "    Shows metrics in a data frame: \n",
    "        - mae,\n",
    "        - mse,\n",
    "        - rmse\n",
    "        - r2\n",
    "    \"\"\"\n",
    "    df = pd.DataFrame(scores.values(), scores.keys(), columns=[col_name])\n",
    "    print(df)\n",
    "\n",
    "def show_intercept_coefs(lr, cols):\n",
    "    print(f\"Intercept b_0 : {lr.intercept_}\")\n",
    "    print('')\n",
    "    cdf = pd.DataFrame(lr.coef_, cols, columns=['Coefficient'])\n",
    "    cdf = cdf.sort_values(by=['Coefficient'], ascending=False)\n",
    "    print(cdf)   "
   ]
  },
  {
   "cell_type": "code",
   "execution_count": null,
   "id": "48e0d2d7-3cf4-4797-ba1c-ba99667bc651",
   "metadata": {},
   "outputs": [],
   "source": []
  },
  {
   "cell_type": "code",
   "execution_count": 10,
   "id": "51975d9d-f8c6-4e10-a787-5e4f24c85269",
   "metadata": {},
   "outputs": [],
   "source": [
    "train_data_encoded = train_data"
   ]
  },
  {
   "cell_type": "code",
   "execution_count": null,
   "id": "8fd0b159-5954-40c2-9156-521226a932c0",
   "metadata": {},
   "outputs": [],
   "source": []
  },
  {
   "cell_type": "markdown",
   "id": "14f38422-3a44-4c4c-8ebb-693b68bfd729",
   "metadata": {},
   "source": [
    "## 8. Modeling (II)"
   ]
  },
  {
   "cell_type": "markdown",
   "id": "a519fb1f-163d-42b4-8da9-92e182af39e7",
   "metadata": {},
   "source": [
    "**Multiple Linear Regression :**\n",
    "* Trying to find the `coefficient` and the `slope` for :\n",
    "\\begin{align*}\n",
    "\\hat{y} = b_0 + b_1{x}_{1} + b_2{x}_{2} + ... + b_n{x}_{n}\\\\\n",
    "\\end{align*}"
   ]
  },
  {
   "cell_type": "code",
   "execution_count": 11,
   "id": "3069bff3-7dfc-4bd1-9c1c-cd6c192b7749",
   "metadata": {},
   "outputs": [
    {
     "data": {
      "text/plain": [
       "(1202, 7)"
      ]
     },
     "execution_count": 11,
     "metadata": {},
     "output_type": "execute_result"
    }
   ],
   "source": [
    "train_data_encoded.shape"
   ]
  },
  {
   "cell_type": "code",
   "execution_count": 12,
   "id": "ae598d6d-3cd5-4bf5-b4f4-4af0bb399a5d",
   "metadata": {},
   "outputs": [],
   "source": [
    "X = pd.DataFrame(train_data_encoded[['x', 'x2', 'x3', 'x4', 'G_F']])\n",
    "y = train_data_encoded['y']\n",
    "from sklearn.model_selection import train_test_split\n",
    "X_train, X_val, y_train, y_val = train_test_split(X, y, test_size=0.2, random_state=42)"
   ]
  },
  {
   "cell_type": "code",
   "execution_count": 13,
   "id": "e3cc0a12-1efe-4710-9c84-a1b2a60cab22",
   "metadata": {},
   "outputs": [
    {
     "data": {
      "text/html": [
       "<style>#sk-container-id-1 {color: black;background-color: white;}#sk-container-id-1 pre{padding: 0;}#sk-container-id-1 div.sk-toggleable {background-color: white;}#sk-container-id-1 label.sk-toggleable__label {cursor: pointer;display: block;width: 100%;margin-bottom: 0;padding: 0.3em;box-sizing: border-box;text-align: center;}#sk-container-id-1 label.sk-toggleable__label-arrow:before {content: \"▸\";float: left;margin-right: 0.25em;color: #696969;}#sk-container-id-1 label.sk-toggleable__label-arrow:hover:before {color: black;}#sk-container-id-1 div.sk-estimator:hover label.sk-toggleable__label-arrow:before {color: black;}#sk-container-id-1 div.sk-toggleable__content {max-height: 0;max-width: 0;overflow: hidden;text-align: left;background-color: #f0f8ff;}#sk-container-id-1 div.sk-toggleable__content pre {margin: 0.2em;color: black;border-radius: 0.25em;background-color: #f0f8ff;}#sk-container-id-1 input.sk-toggleable__control:checked~div.sk-toggleable__content {max-height: 200px;max-width: 100%;overflow: auto;}#sk-container-id-1 input.sk-toggleable__control:checked~label.sk-toggleable__label-arrow:before {content: \"▾\";}#sk-container-id-1 div.sk-estimator input.sk-toggleable__control:checked~label.sk-toggleable__label {background-color: #d4ebff;}#sk-container-id-1 div.sk-label input.sk-toggleable__control:checked~label.sk-toggleable__label {background-color: #d4ebff;}#sk-container-id-1 input.sk-hidden--visually {border: 0;clip: rect(1px 1px 1px 1px);clip: rect(1px, 1px, 1px, 1px);height: 1px;margin: -1px;overflow: hidden;padding: 0;position: absolute;width: 1px;}#sk-container-id-1 div.sk-estimator {font-family: monospace;background-color: #f0f8ff;border: 1px dotted black;border-radius: 0.25em;box-sizing: border-box;margin-bottom: 0.5em;}#sk-container-id-1 div.sk-estimator:hover {background-color: #d4ebff;}#sk-container-id-1 div.sk-parallel-item::after {content: \"\";width: 100%;border-bottom: 1px solid gray;flex-grow: 1;}#sk-container-id-1 div.sk-label:hover label.sk-toggleable__label {background-color: #d4ebff;}#sk-container-id-1 div.sk-serial::before {content: \"\";position: absolute;border-left: 1px solid gray;box-sizing: border-box;top: 0;bottom: 0;left: 50%;z-index: 0;}#sk-container-id-1 div.sk-serial {display: flex;flex-direction: column;align-items: center;background-color: white;padding-right: 0.2em;padding-left: 0.2em;position: relative;}#sk-container-id-1 div.sk-item {position: relative;z-index: 1;}#sk-container-id-1 div.sk-parallel {display: flex;align-items: stretch;justify-content: center;background-color: white;position: relative;}#sk-container-id-1 div.sk-item::before, #sk-container-id-1 div.sk-parallel-item::before {content: \"\";position: absolute;border-left: 1px solid gray;box-sizing: border-box;top: 0;bottom: 0;left: 50%;z-index: -1;}#sk-container-id-1 div.sk-parallel-item {display: flex;flex-direction: column;z-index: 1;position: relative;background-color: white;}#sk-container-id-1 div.sk-parallel-item:first-child::after {align-self: flex-end;width: 50%;}#sk-container-id-1 div.sk-parallel-item:last-child::after {align-self: flex-start;width: 50%;}#sk-container-id-1 div.sk-parallel-item:only-child::after {width: 0;}#sk-container-id-1 div.sk-dashed-wrapped {border: 1px dashed gray;margin: 0 0.4em 0.5em 0.4em;box-sizing: border-box;padding-bottom: 0.4em;background-color: white;}#sk-container-id-1 div.sk-label label {font-family: monospace;font-weight: bold;display: inline-block;line-height: 1.2em;}#sk-container-id-1 div.sk-label-container {text-align: center;}#sk-container-id-1 div.sk-container {/* jupyter's `normalize.less` sets `[hidden] { display: none; }` but bootstrap.min.css set `[hidden] { display: none !important; }` so we also need the `!important` here to be able to override the default hidden behavior on the sphinx rendered scikit-learn.org. See: https://github.com/scikit-learn/scikit-learn/issues/21755 */display: inline-block !important;position: relative;}#sk-container-id-1 div.sk-text-repr-fallback {display: none;}</style><div id=\"sk-container-id-1\" class=\"sk-top-container\"><div class=\"sk-text-repr-fallback\"><pre>LinearRegression()</pre><b>In a Jupyter environment, please rerun this cell to show the HTML representation or trust the notebook. <br />On GitHub, the HTML representation is unable to render, please try loading this page with nbviewer.org.</b></div><div class=\"sk-container\" hidden><div class=\"sk-item\"><div class=\"sk-estimator sk-toggleable\"><input class=\"sk-toggleable__control sk-hidden--visually\" id=\"sk-estimator-id-1\" type=\"checkbox\" checked><label for=\"sk-estimator-id-1\" class=\"sk-toggleable__label sk-toggleable__label-arrow\">LinearRegression</label><div class=\"sk-toggleable__content\"><pre>LinearRegression()</pre></div></div></div></div></div>"
      ],
      "text/plain": [
       "LinearRegression()"
      ]
     },
     "execution_count": 13,
     "metadata": {},
     "output_type": "execute_result"
    }
   ],
   "source": [
    "from sklearn.linear_model import LinearRegression\n",
    "lr = LinearRegression()\n",
    "lr.fit(X_train, y_train)"
   ]
  },
  {
   "cell_type": "code",
   "execution_count": null,
   "id": "933bd69a-7d0e-4779-ac02-10dbc8191962",
   "metadata": {},
   "outputs": [],
   "source": []
  },
  {
   "cell_type": "markdown",
   "id": "6dadaa84-ab30-4538-8329-922a9a7de45c",
   "metadata": {},
   "source": [
    "**Making Predictions on `X_train` and `X_val` : **"
   ]
  },
  {
   "cell_type": "code",
   "execution_count": 14,
   "id": "356edcd2-6ddd-4ca2-88f5-231588f439e7",
   "metadata": {},
   "outputs": [
    {
     "name": "stdout",
     "output_type": "stream",
     "text": [
      "\n",
      "      Training\n",
      "MAE   0.241445\n",
      "MSE   0.091607\n",
      "RMSE  0.302666\n",
      "R2    1.000000\n",
      "\n",
      "      Validation\n",
      "MAE     0.245643\n",
      "MSE     0.092286\n",
      "RMSE    0.303785\n",
      "R2      1.000000\n",
      "\n",
      "Intercept b_0 : 9.976461405783084\n",
      "\n",
      "      Coefficient\n",
      "G_F  1.000393e+01\n",
      "x    3.000040e+00\n",
      "x4   1.068879e-07\n",
      "x3   6.276363e-09\n",
      "x2  -1.034246e-06\n"
     ]
    }
   ],
   "source": [
    "train_predictions = lr.predict(X_train)\n",
    "val_predictions = lr.predict(X_val)\n",
    "\n",
    "train_scores = get_scores(train_predictions, y_train)\n",
    "val_scores = get_scores(val_predictions, y_val)\n",
    "\n",
    "print('')\n",
    "#print(f\"Training :\")\n",
    "#show_scores(train_scores)\n",
    "show_scores_data_frame(train_scores, 'Training')\n",
    "print('')\n",
    "#print(f\"Validation :\")\n",
    "#show_scores(val_scores)\n",
    "show_scores_data_frame(val_scores, 'Validation')\n",
    "#\n",
    "print('')\n",
    "\n",
    "show_intercept_coefs(lr, X_train.columns)"
   ]
  },
  {
   "cell_type": "markdown",
   "id": "6d55d6e9-0c37-46a5-9b9b-a8e9c055f482",
   "metadata": {},
   "source": [
    "* Trying to find the `coefficient` and the `slope` for :\n",
    "\\begin{align*}\n",
    "\\hat{y} = b_0 + b_1{x}_{1} + b_2{x}_{2} + ... + b_n{x}_{n}\\\\\n",
    "\\end{align*}"
   ]
  },
  {
   "cell_type": "markdown",
   "id": "353bf5d8-3377-4fa2-9bc4-92d492ffe17f",
   "metadata": {},
   "source": [
    "  $$\\hat{y} = 9.97 + 3.00 * {x}_{1} + -1.03e-06 * {x}_{2} + 6.27e-09 * {x}_{3} + 1.06e-07 * {x}_{4}$$"
   ]
  },
  {
   "cell_type": "markdown",
   "id": "52767a50-aba8-43dc-b40b-28329f3bbacd",
   "metadata": {},
   "source": [
    "**R^2 (default score): Each model has a default metric set up by default :**"
   ]
  },
  {
   "cell_type": "code",
   "execution_count": 15,
   "id": "42435b16-39d5-42fd-8c0e-657a995c8349",
   "metadata": {},
   "outputs": [
    {
     "name": "stdout",
     "output_type": "stream",
     "text": [
      "R^2 on Training data = 0.9999996709349336\n",
      "R^2 on Validation data = 0.9999996168514967\n"
     ]
    }
   ],
   "source": [
    "r_2_on_train = lr.score(X_train, y_train) \n",
    "print(f\"R^2 on Training data = {r_2_on_train}\")\n",
    "r_2_on_val = lr.score(X_val, y_val) \n",
    "print(f\"R^2 on Validation data = {r_2_on_val}\")"
   ]
  },
  {
   "cell_type": "markdown",
   "id": "ad4092ec-402c-4576-ac33-9679a7d37d79",
   "metadata": {},
   "source": [
    "**Plot Predicted values vs True Values :**"
   ]
  },
  {
   "cell_type": "code",
   "execution_count": 16,
   "id": "f410f25c-9a5c-4dfd-a95c-5960d45bdf9b",
   "metadata": {},
   "outputs": [
    {
     "data": {
      "image/png": "[encoded data removed]",
      "text/plain": [
       "<Figure size 640x480 with 1 Axes>"
      ]
     },
     "metadata": {},
     "output_type": "display_data"
    }
   ],
   "source": [
    "plt.scatter(y_val, val_predictions)\n",
    "plt.xlabel('Y val ( True Values )')\n",
    "plt.ylabel('Predicted Values ')\n",
    "plt.show()"
   ]
  },
  {
   "cell_type": "code",
   "execution_count": 17,
   "id": "36ba1ec9-2a2f-4bf4-8931-8935af7ae62a",
   "metadata": {},
   "outputs": [
    {
     "name": "stdout",
     "output_type": "stream",
     "text": [
      "Predicted value for the new data point [     20 2222222 3333333 4444444       1]: 78.1788486840207\n"
     ]
    },
    {
     "name": "stderr",
     "output_type": "stream",
     "text": [
      "/home/aaiche/anaconda3/lib/python3.11/site-packages/sklearn/base.py:439: UserWarning: X does not have valid feature names, but LinearRegression was fitted with feature names\n",
      "  warnings.warn(\n"
     ]
    }
   ],
   "source": [
    "# Example of predicting a single value using a new data point\n",
    "new_data = np.array([[20, 2222222, 3333333, 4444444, 1]]) \n",
    "single_prediction = lr.predict(new_data)\n",
    "print(f\"Predicted value for the new data point {new_data[0]}: {single_prediction[0]}\")"
   ]
  },
  {
   "cell_type": "code",
   "execution_count": null,
   "id": "2c0a8093-264e-4751-90b3-11b08f76d53e",
   "metadata": {},
   "outputs": [],
   "source": []
  },
  {
   "cell_type": "markdown",
   "id": "c0a90e69-edc8-45f5-8ae8-e852ebd5bb50",
   "metadata": {},
   "source": [
    "**Saving and Loading Models in Scikit-learn :**\n",
    "- Scikit-learn supports the Python packages :\n",
    "  * `Pickle` ( not covered in student guide )\n",
    "  * `Joblib`"
   ]
  },
  {
   "cell_type": "code",
   "execution_count": 18,
   "id": "7ea0530e-019f-414b-a8f1-5c208fcb356f",
   "metadata": {},
   "outputs": [
    {
     "data": {
      "text/plain": [
       "['models/lr2.joblib']"
      ]
     },
     "execution_count": 18,
     "metadata": {},
     "output_type": "execute_result"
    }
   ],
   "source": [
    "import joblib \n",
    "\n",
    "# save model with joblib \n",
    "filename = 'models/lr2.joblib'\n",
    "joblib.dump(lr, filename)"
   ]
  },
  {
   "cell_type": "code",
   "execution_count": 19,
   "id": "4c44b9bc-efa5-413d-9d03-674def669459",
   "metadata": {},
   "outputs": [],
   "source": [
    "# load model with joblib\n",
    "loaded_model = joblib.load(filename)"
   ]
  },
  {
   "cell_type": "code",
   "execution_count": 20,
   "id": "32feccc8-1312-437a-947d-853eef74d30b",
   "metadata": {},
   "outputs": [
    {
     "name": "stdout",
     "output_type": "stream",
     "text": [
      "Predicted value for the new data point [     20 2222222 3333333 4444444       1]: 78.1788486840207\n"
     ]
    },
    {
     "name": "stderr",
     "output_type": "stream",
     "text": [
      "/home/aaiche/anaconda3/lib/python3.11/site-packages/sklearn/base.py:439: UserWarning: X does not have valid feature names, but LinearRegression was fitted with feature names\n",
      "  warnings.warn(\n"
     ]
    }
   ],
   "source": [
    "# Example of predicting a single value using a new data point\n",
    "new_data = np.array([[20, 2222222, 3333333, 4444444, 1]]) \n",
    "single_prediction = loaded_model.predict(new_data)\n",
    "print(f\"Predicted value for the new data point {new_data[0]}: {single_prediction[0]}\")"
   ]
  },
  {
   "cell_type": "code",
   "execution_count": null,
   "id": "50df0fc5-1fe7-4aa9-bcfb-17fb490b2e43",
   "metadata": {},
   "outputs": [],
   "source": []
  },
  {
   "cell_type": "markdown",
   "id": "bc2c0362-e682-498a-8bdc-95dd17edc2de",
   "metadata": {},
   "source": [
    "**Convert the Scikit-learn model to ONNX and save :**"
   ]
  },
  {
   "cell_type": "code",
   "execution_count": 21,
   "id": "87c222d7-4c53-4109-961c-df1fc08e9736",
   "metadata": {},
   "outputs": [],
   "source": [
    "#TBD"
   ]
  },
  {
   "cell_type": "code",
   "execution_count": null,
   "id": "b2a2565f-7faf-4bf2-8f34-b53f50837ef5",
   "metadata": {},
   "outputs": [],
   "source": []
  },
  {
   "cell_type": "code",
   "execution_count": null,
   "id": "e612de4b-e09a-440c-af1b-907beb5b1b69",
   "metadata": {},
   "outputs": [],
   "source": []
  }
 ],
 "metadata": {
  "kernelspec": {
   "display_name": "Python 3 (ipykernel)",
   "language": "python",
   "name": "python3"
  },
  "language_info": {
   "codemirror_mode": {
    "name": "ipython",
    "version": 3
   },
   "file_extension": ".py",
   "mimetype": "text/x-python",
   "name": "python",
   "nbconvert_exporter": "python",
   "pygments_lexer": "ipython3",
   "version": "3.11.5"
  }
 },
 "nbformat": 4,
 "nbformat_minor": 5
}
