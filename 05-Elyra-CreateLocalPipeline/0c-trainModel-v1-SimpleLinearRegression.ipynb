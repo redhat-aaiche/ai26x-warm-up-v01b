{
 "cells": [
  {
   "cell_type": "markdown",
   "id": "a80e6c09-425f-4bbd-a2f7-0e9690ccc1cb",
   "metadata": {},
   "source": [
    "# Linear Regression"
   ]
  },
  {
   "cell_type": "markdown",
   "id": "820d2d23-0100-4751-a353-3ac5dc6d199e",
   "metadata": {},
   "source": [
    "---"
   ]
  },
  {
   "cell_type": "code",
   "execution_count": null,
   "id": "71b0f5ae-58ef-4840-924d-77db5c745cbc",
   "metadata": {},
   "outputs": [],
   "source": [
    "!pip install numpy"
   ]
  },
  {
   "cell_type": "code",
   "execution_count": null,
   "id": "e56bc2d9-6f9a-496c-b324-80f151104e18",
   "metadata": {},
   "outputs": [],
   "source": [
    "!pip install pandas"
   ]
  },
  {
   "cell_type": "code",
   "execution_count": null,
   "id": "3799e292-7f7a-4c74-8c2a-e20926ee37cc",
   "metadata": {},
   "outputs": [],
   "source": [
    "!pip install matplotlib"
   ]
  },
  {
   "cell_type": "code",
   "execution_count": null,
   "id": "048d4d55-6078-4f26-bc9f-8d061a08f63d",
   "metadata": {},
   "outputs": [],
   "source": [
    "!pip install seaborn"
   ]
  },
  {
   "cell_type": "markdown",
   "id": "52acd37f-e9f5-4a68-bc54-d8b6ea439b80",
   "metadata": {},
   "source": [
    "## 2. Import the required libraries"
   ]
  },
  {
   "cell_type": "code",
   "execution_count": null,
   "id": "21f669b8-ad77-4f8d-a227-d5a02a168e03",
   "metadata": {},
   "outputs": [],
   "source": [
    "import pandas as pd \n",
    "import numpy as np \n",
    "import matplotlib.pyplot as plt \n",
    "import seaborn as sns "
   ]
  },
  {
   "cell_type": "code",
   "execution_count": null,
   "id": "dea680c6-0ada-4faf-8c19-1ba7d6486fc4",
   "metadata": {},
   "outputs": [],
   "source": []
  },
  {
   "cell_type": "markdown",
   "id": "2decb367-d6d0-4fe6-9d52-f37b31b2e1a2",
   "metadata": {},
   "source": [
    "## 3. Load Data"
   ]
  },
  {
   "cell_type": "code",
   "execution_count": null,
   "id": "d646716f-ca9f-4216-99a9-b4ad4be50c60",
   "metadata": {},
   "outputs": [],
   "source": [
    "# Load data\n",
    "train_data = pd.read_csv('data/myfileCleaned.csv')\n",
    "# Separate features and target variable\n",
    "#X_train = train_data.drop(['SalePrice'], axis=1)\n",
    "y = train_data['y']"
   ]
  },
  {
   "cell_type": "code",
   "execution_count": null,
   "id": "53dedc60-6e17-402f-9766-3a5c9dd8750c",
   "metadata": {},
   "outputs": [],
   "source": [
    "train_data"
   ]
  },
  {
   "cell_type": "code",
   "execution_count": null,
   "id": "726a49ee-d09c-41d0-9fcf-891b41196cb1",
   "metadata": {},
   "outputs": [],
   "source": []
  },
  {
   "cell_type": "markdown",
   "id": "7c9587af-0a70-4926-9d5a-faf5414cd467",
   "metadata": {},
   "source": [
    "## 6. Linear Regression\n",
    "**Preparing Some tools :**"
   ]
  },
  {
   "cell_type": "markdown",
   "id": "4bb0f1ec-9102-4fe1-b5ed-26da68ef85a1",
   "metadata": {},
   "source": [
    "**Evaluate the model using Most Common Regression metrics :**\n",
    "\n",
    "https://scikit-learn.org/stable/modules/model_evaluation.html#regression-metrics"
   ]
  },
  {
   "cell_type": "markdown",
   "id": "d921124f-2e18-4e69-9c83-7a4ad569b950",
   "metadata": {},
   "source": [
    "**Mean Absolute Error (MAE) :** \n",
    "\\begin{align*} \n",
    "MAE = \\frac{1}{n} \\Sigma_{i=1}^n |{y}-\\hat{y}|\n",
    "\\end{align*}\n"
   ]
  },
  {
   "cell_type": "markdown",
   "id": "34a544ea-4ecb-4ff2-8463-af4cd5d8f830",
   "metadata": {},
   "source": [
    "**Residual Sum of Squares (RSS) :** \n",
    "\n",
    "\\begin{align*} \n",
    " RSS = \\Sigma_{i=1}^n({y}-\\hat{y})^2\n",
    "\\end{align*}"
   ]
  },
  {
   "cell_type": "markdown",
   "id": "9257e85d-0fe5-46aa-b27e-19919393550b",
   "metadata": {},
   "source": [
    "**Mean Squared Error (MSE) :** \n",
    "\\begin{align*} \n",
    "  MSE = \\frac{1}{n} \\Sigma_{i=1}^n({y}-\\hat{y})^2\n",
    "\\end{align*}\n"
   ]
  },
  {
   "cell_type": "markdown",
   "id": "b1625345-67d8-4930-8678-0b66f655664d",
   "metadata": {},
   "source": [
    "**Root Mean Squared Error (RMSE) :** \n",
    "\\begin{align*} \n",
    "  RMSE = \\sqrt {\\frac{1}{n} \\Sigma_{i=1}^n({y}-\\hat{y})^2 }\n",
    "\\end{align*}\n"
   ]
  },
  {
   "cell_type": "markdown",
   "id": "389be702-94c8-4fe4-a206-5a4a99d9763f",
   "metadata": {},
   "source": [
    "* Comparing these metrics :\n",
    "    * **MAE** is the easiest to understand, because it is the average error\n",
    "    * **MSE** is more popular than MAE, because MSE \"punishes\" larger errors, which tends to be useful in the real world\n",
    "    * **RMSE** is even more popular than MSE, because RMSE is interpretable in the \"y\" units\n",
    "* All of these are **loss functions**, because we want to minimize them"
   ]
  },
  {
   "cell_type": "markdown",
   "id": "4ef2d264-5a3c-4af1-bc1e-169fce7bd38a",
   "metadata": {},
   "source": [
    "**R^2 :** \n",
    "* aka : coefficient of determination\n",
    "* if the model is only prdicting the mean of the targets, R^2 value would be 0\n",
    "  ==> model is poor\n",
    "* if the model is perfectly predicting the targets, R^2 value would be 1"
   ]
  },
  {
   "cell_type": "code",
   "execution_count": null,
   "id": "191dd74e-2fc8-4573-b897-3c15bc70af2d",
   "metadata": {},
   "outputs": [],
   "source": [
    "!pip install scikit-learn"
   ]
  },
  {
   "cell_type": "code",
   "execution_count": null,
   "id": "a04d40ba-05a7-4a9f-a07c-2f019c548fc6",
   "metadata": {},
   "outputs": [],
   "source": [
    "# Create evaluation functions \n",
    "from sklearn.metrics import mean_squared_error, mean_absolute_error, explained_variance_score\n",
    "\n",
    "# Create function to get metrics from predicted values vs true values\n",
    "def get_scores(predictions, y):\n",
    "    \"\"\"\n",
    "    Caculates between predictions and true labels: \n",
    "        - mae,\n",
    "        - mse,\n",
    "        - rmse\n",
    "        - r2\n",
    "    \"\"\"\n",
    "    mae = mean_absolute_error(y, predictions)\n",
    "    mse = mean_squared_error(y, predictions)\n",
    "    rmse = np.sqrt(mse)\n",
    "    r2 = explained_variance_score(y, predictions)\n",
    "    scores = {\"MAE\": mae,\n",
    "              \"MSE\": mse,\n",
    "              \"RMSE\": rmse,\n",
    "              \"R2\": r2\n",
    "              }\n",
    "    return scores\n",
    "\n",
    "def show_scores(scores):\n",
    "    \"\"\"\n",
    "    Shows metrics: \n",
    "        - mae,\n",
    "        - mse,\n",
    "        - rmse\n",
    "        - r2\n",
    "    \"\"\"\n",
    "    print(f\"\\tR^2 : {scores['R2']:.2f}\")\n",
    "    print(f\"\\tMAE : {scores['MAE']:.2f}\")\n",
    "    print(f\"\\tMSE : {scores['MSE']:.2f}\")\n",
    "    print(f\"\\tRMSE : {scores['RMSE']:.2f}\")\n",
    "    print('')\n",
    "\n",
    "def show_scores_data_frame(scores, col_name):\n",
    "    \"\"\"\n",
    "    Shows metrics in a data frame: \n",
    "        - mae,\n",
    "        - mse,\n",
    "        - rmse\n",
    "        - r2\n",
    "    \"\"\"\n",
    "    df = pd.DataFrame(scores.values(), scores.keys(), columns=[col_name])\n",
    "    print(df)\n",
    "\n",
    "def show_intercept_coefs(lr, cols):\n",
    "    print(f\"Intercept b_0 : {lr.intercept_}\")\n",
    "    print('')\n",
    "    cdf = pd.DataFrame(lr.coef_, cols, columns=['Coefficient'])\n",
    "    cdf = cdf.sort_values(by=['Coefficient'], ascending=False)\n",
    "    print(cdf)   "
   ]
  },
  {
   "cell_type": "code",
   "execution_count": null,
   "id": "ca296e21-9fb2-4452-8ba2-ddb5c2081efe",
   "metadata": {},
   "outputs": [],
   "source": []
  },
  {
   "cell_type": "code",
   "execution_count": null,
   "id": "48e0d2d7-3cf4-4797-ba1c-ba99667bc651",
   "metadata": {},
   "outputs": [],
   "source": [
    "train_data_encoded = train_data"
   ]
  },
  {
   "cell_type": "markdown",
   "id": "d26c419e-9571-4770-8974-688defd7fc67",
   "metadata": {},
   "source": [
    "## 7. Modeling (I)"
   ]
  },
  {
   "cell_type": "markdown",
   "id": "b8d0d620-5578-4d59-bbf4-da0075c7911c",
   "metadata": {},
   "source": [
    "**Splitting Dataset into the Training Set and Validation Set :**"
   ]
  },
  {
   "cell_type": "markdown",
   "id": "13564ffa-4985-46ce-b242-ad3b9dd54f91",
   "metadata": {},
   "source": [
    "**Simple Linear Regression :**\n",
    "* Trying to find the `coefficient` and the `slope` for :\n",
    "\\begin{align*}\n",
    "\\\\\n",
    "\\hat{y} = b_0 + b_1{x}_{1} +b_2{G_F}\n",
    "\\end{align*}"
   ]
  },
  {
   "cell_type": "code",
   "execution_count": null,
   "id": "8d8c4f36-a511-43b3-9fec-f3a985945f86",
   "metadata": {},
   "outputs": [],
   "source": [
    "train_data_encoded.shape"
   ]
  },
  {
   "cell_type": "code",
   "execution_count": null,
   "id": "f55cc7eb-8d5b-4f6f-b40a-9e8e31aaa62d",
   "metadata": {},
   "outputs": [],
   "source": [
    "X = pd.DataFrame(train_data_encoded[['x', 'G_F']])\n",
    "y = train_data_encoded['y']\n",
    "from sklearn.model_selection import train_test_split\n",
    "X_train, X_val, y_train, y_val = train_test_split(X, y, test_size=0.2, random_state=42)"
   ]
  },
  {
   "cell_type": "code",
   "execution_count": null,
   "id": "13621435-0c6b-4258-93d2-c7d72c84fc2b",
   "metadata": {},
   "outputs": [],
   "source": [
    "from sklearn.linear_model import LinearRegression\n",
    "lr = LinearRegression()\n",
    "lr.fit(X_train, y_train)"
   ]
  },
  {
   "cell_type": "code",
   "execution_count": null,
   "id": "2ed945ce-f20e-40f0-9a4f-6360e4106f29",
   "metadata": {},
   "outputs": [],
   "source": []
  },
  {
   "cell_type": "markdown",
   "id": "ff5b7005-2bc6-479b-b84c-756af7ab763f",
   "metadata": {},
   "source": [
    "**Making Predictions on `X_train` and `X_val` :**"
   ]
  },
  {
   "cell_type": "code",
   "execution_count": null,
   "id": "7881601a-f903-4349-819d-f5e9755e8a34",
   "metadata": {},
   "outputs": [],
   "source": [
    "train_predictions = lr.predict(X_train)\n",
    "val_predictions = lr.predict(X_val)\n",
    "\n",
    "train_scores = get_scores(train_predictions, y_train)\n",
    "val_scores = get_scores(val_predictions, y_val)\n",
    "\n",
    "print('')\n",
    "#print(f\"Training :\")\n",
    "#show_scores(train_scores)\n",
    "show_scores_data_frame(train_scores, 'Training')\n",
    "print('')\n",
    "#print(f\"Validation :\")\n",
    "#show_scores(val_scores)\n",
    "show_scores_data_frame(val_scores, 'Validation')\n",
    "#\n",
    "print('')\n",
    "\n",
    "show_intercept_coefs(lr, X_train.columns)"
   ]
  },
  {
   "cell_type": "markdown",
   "id": "8b057f33-3309-46e6-9c87-eac727ef86d3",
   "metadata": {},
   "source": [
    "* Trying to find the `coefficient` and the `slope` for :\n",
    "\\begin{align*}\n",
    "\\hat{y} = b_0 + b_1{x}_{1} + b_2{G_F}\n",
    "\\end{align*}"
   ]
  },
  {
   "cell_type": "markdown",
   "id": "8a1c3250-a8d7-4c34-a79c-b0a39d1cf981",
   "metadata": {},
   "source": [
    "  $$\\hat{y} = 9.97 + 3.00 * {x}_{1} + 10.00{G_F}$$"
   ]
  },
  {
   "cell_type": "markdown",
   "id": "613b82fe-7e73-40ec-bf49-061b09a4a103",
   "metadata": {},
   "source": [
    "**R^2 (default score): Each model has a default metric set up by default :**"
   ]
  },
  {
   "cell_type": "code",
   "execution_count": null,
   "id": "9561368d-c2d2-4f06-ae54-c0272b2ec6ce",
   "metadata": {},
   "outputs": [],
   "source": [
    "r_2_on_train = lr.score(X_train, y_train) \n",
    "print(f\"R^2 on Training data = {r_2_on_train}\")\n",
    "r_2_on_val = lr.score(X_val, y_val) \n",
    "print(f\"R^2 on Validation data = {r_2_on_val}\")"
   ]
  },
  {
   "cell_type": "markdown",
   "id": "2e0888bf-3619-4924-80c4-8b2903419cfc",
   "metadata": {},
   "source": [
    "**Plot Predicted values vs True Values :**"
   ]
  },
  {
   "cell_type": "code",
   "execution_count": null,
   "id": "771ae88f-1f3c-4524-b5e8-d85639c7ceec",
   "metadata": {},
   "outputs": [],
   "source": [
    "plt.scatter(y_val, val_predictions)\n",
    "plt.xlabel('Y val ( True Values )')\n",
    "plt.ylabel('Predicted Values ')\n",
    "plt.show()"
   ]
  },
  {
   "cell_type": "code",
   "execution_count": null,
   "id": "b6aae6c3-7491-4694-a65f-6fc63d6c31e4",
   "metadata": {},
   "outputs": [],
   "source": [
    "# Example of predicting a single value using a new data point\n",
    "new_data = np.array([[20, 1]])  # Example values for x1 and x2\n",
    "single_prediction = lr.predict(new_data)\n",
    "print(f\"Predicted value for the new data point {new_data[0]}: {single_prediction[0]}\")"
   ]
  },
  {
   "cell_type": "code",
   "execution_count": null,
   "id": "3765005d-9559-48b5-99f2-6037c8a4b7b4",
   "metadata": {},
   "outputs": [],
   "source": []
  },
  {
   "cell_type": "markdown",
   "id": "13a5a3c6-0690-4222-b888-d4320f67c84c",
   "metadata": {},
   "source": [
    "**Saving and Loading Models in Scikit-learn :**\n",
    "- Scikit-learn supports the Python packages :\n",
    "  * `Pickle` ( not covered in student guide )\n",
    "  * `Joblib`"
   ]
  },
  {
   "cell_type": "code",
   "execution_count": null,
   "id": "1b2f0d5f-e278-4684-899e-b3c37bd10201",
   "metadata": {},
   "outputs": [],
   "source": [
    "import pickle\n",
    "\n",
    "# save the model as a pickle file\n",
    "model_pkl_file = \"models/lr1.pkl\"  \n",
    "\n",
    "\n",
    "with open(model_pkl_file, 'wb') as file:  \n",
    "    pickle.dump(lr, file)"
   ]
  },
  {
   "cell_type": "code",
   "execution_count": null,
   "id": "36330bb4-e8b3-46cd-b7e6-81da37e48ba9",
   "metadata": {},
   "outputs": [],
   "source": [
    "# load model from pickle file\n",
    "with open(model_pkl_file, 'rb') as file:  \n",
    "    loaded_model = pickle.load(file)"
   ]
  },
  {
   "cell_type": "code",
   "execution_count": null,
   "id": "65820996-8011-4fa2-9c9d-e674dcecf14c",
   "metadata": {},
   "outputs": [],
   "source": [
    "# Example of predicting a single value using a new data point\n",
    "new_data = np.array([[20, 1]])  # Example values for x1 and x2\n",
    "single_prediction = lr.predict(new_data)\n",
    "print(f\"Predicted value for the new data point {new_data[0]}: {single_prediction[0]}\")"
   ]
  },
  {
   "cell_type": "code",
   "execution_count": null,
   "id": "51975d9d-f8c6-4e10-a787-5e4f24c85269",
   "metadata": {},
   "outputs": [],
   "source": []
  },
  {
   "cell_type": "code",
   "execution_count": null,
   "id": "b2a2565f-7faf-4bf2-8f34-b53f50837ef5",
   "metadata": {},
   "outputs": [],
   "source": []
  }
 ],
 "metadata": {
  "kernelspec": {
   "display_name": "Python 3 (ipykernel)",
   "language": "python",
   "name": "python3"
  },
  "language_info": {
   "codemirror_mode": {
    "name": "ipython",
    "version": 3
   },
   "file_extension": ".py",
   "mimetype": "text/x-python",
   "name": "python",
   "nbconvert_exporter": "python",
   "pygments_lexer": "ipython3",
   "version": "3.11.5"
  }
 },
 "nbformat": 4,
 "nbformat_minor": 5
}
