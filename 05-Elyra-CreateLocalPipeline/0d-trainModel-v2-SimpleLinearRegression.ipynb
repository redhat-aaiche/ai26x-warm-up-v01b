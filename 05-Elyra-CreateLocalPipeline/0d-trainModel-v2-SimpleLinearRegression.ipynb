{
 "cells": [
  {
   "cell_type": "markdown",
   "id": "a80e6c09-425f-4bbd-a2f7-0e9690ccc1cb",
   "metadata": {},
   "source": [
    "# Linear Regression"
   ]
  },
  {
   "cell_type": "markdown",
   "id": "820d2d23-0100-4751-a353-3ac5dc6d199e",
   "metadata": {},
   "source": [
    "---"
   ]
  },
  {
   "cell_type": "code",
   "execution_count": null,
   "id": "a913d2e2-5bc6-45d8-80d3-3bd36a63fe47",
   "metadata": {},
   "outputs": [],
   "source": [
    "!pip install numpy"
   ]
  },
  {
   "cell_type": "code",
   "execution_count": null,
   "id": "4708d2ea-8ce6-4bc1-90f8-383650c56555",
   "metadata": {},
   "outputs": [],
   "source": [
    "!pip install pandas"
   ]
  },
  {
   "cell_type": "code",
   "execution_count": null,
   "id": "3cb8d1b6-5ef5-4008-bacd-58338178cd47",
   "metadata": {},
   "outputs": [],
   "source": [
    "!pip install matplotlib"
   ]
  },
  {
   "cell_type": "code",
   "execution_count": null,
   "id": "38fdbb28-4af3-416f-8803-3da28f54c70f",
   "metadata": {},
   "outputs": [],
   "source": [
    "!pip install seaborn"
   ]
  },
  {
   "cell_type": "code",
   "execution_count": null,
   "id": "844623bd-cc31-4faa-8fe2-d5f0d95ca2fd",
   "metadata": {},
   "outputs": [],
   "source": []
  },
  {
   "cell_type": "markdown",
   "id": "52acd37f-e9f5-4a68-bc54-d8b6ea439b80",
   "metadata": {},
   "source": [
    "## 2. Import the required libraries"
   ]
  },
  {
   "cell_type": "code",
   "execution_count": null,
   "id": "21f669b8-ad77-4f8d-a227-d5a02a168e03",
   "metadata": {},
   "outputs": [],
   "source": [
    "import pandas as pd \n",
    "import numpy as np \n",
    "import matplotlib.pyplot as plt \n",
    "import seaborn as sns "
   ]
  },
  {
   "cell_type": "code",
   "execution_count": null,
   "id": "dea680c6-0ada-4faf-8c19-1ba7d6486fc4",
   "metadata": {},
   "outputs": [],
   "source": []
  },
  {
   "cell_type": "markdown",
   "id": "2decb367-d6d0-4fe6-9d52-f37b31b2e1a2",
   "metadata": {},
   "source": [
    "## 3. Load Data"
   ]
  },
  {
   "cell_type": "code",
   "execution_count": null,
   "id": "d646716f-ca9f-4216-99a9-b4ad4be50c60",
   "metadata": {},
   "outputs": [],
   "source": [
    "# Load data\n",
    "train_data = pd.read_csv('data/myfileCleaned.csv')\n",
    "# Separate features and target variable\n",
    "#X_train = train_data.drop(['SalePrice'], axis=1)\n",
    "y = train_data['y']"
   ]
  },
  {
   "cell_type": "code",
   "execution_count": null,
   "id": "53dedc60-6e17-402f-9766-3a5c9dd8750c",
   "metadata": {},
   "outputs": [],
   "source": [
    "train_data"
   ]
  },
  {
   "cell_type": "code",
   "execution_count": null,
   "id": "e563cc46-5adc-43a9-a146-8ee42ecb77b5",
   "metadata": {},
   "outputs": [],
   "source": []
  },
  {
   "cell_type": "markdown",
   "id": "7c9587af-0a70-4926-9d5a-faf5414cd467",
   "metadata": {},
   "source": [
    "## 6. Linear Regression\n",
    "**Preparing Some tools :**"
   ]
  },
  {
   "cell_type": "markdown",
   "id": "4bb0f1ec-9102-4fe1-b5ed-26da68ef85a1",
   "metadata": {},
   "source": [
    "**Evaluate the model using Most Common Regression metrics :**\n",
    "\n",
    "https://scikit-learn.org/stable/modules/model_evaluation.html#regression-metrics"
   ]
  },
  {
   "cell_type": "markdown",
   "id": "d921124f-2e18-4e69-9c83-7a4ad569b950",
   "metadata": {},
   "source": [
    "**Mean Absolute Error (MAE) :** \n",
    "\\begin{align*} \n",
    "MAE = \\frac{1}{n} \\Sigma_{i=1}^n |{y}-\\hat{y}|\n",
    "\\end{align*}\n"
   ]
  },
  {
   "cell_type": "markdown",
   "id": "34a544ea-4ecb-4ff2-8463-af4cd5d8f830",
   "metadata": {},
   "source": [
    "**Residual Sum of Squares (RSS) :** \n",
    "\n",
    "\\begin{align*} \n",
    " RSS = \\Sigma_{i=1}^n({y}-\\hat{y})^2\n",
    "\\end{align*}"
   ]
  },
  {
   "cell_type": "markdown",
   "id": "9257e85d-0fe5-46aa-b27e-19919393550b",
   "metadata": {},
   "source": [
    "**Mean Squared Error (MSE) :** \n",
    "\\begin{align*} \n",
    "  MSE = \\frac{1}{n} \\Sigma_{i=1}^n({y}-\\hat{y})^2\n",
    "\\end{align*}\n"
   ]
  },
  {
   "cell_type": "markdown",
   "id": "b1625345-67d8-4930-8678-0b66f655664d",
   "metadata": {},
   "source": [
    "**Root Mean Squared Error (RMSE) :** \n",
    "\\begin{align*} \n",
    "  RMSE = \\sqrt {\\frac{1}{n} \\Sigma_{i=1}^n({y}-\\hat{y})^2 }\n",
    "\\end{align*}\n"
   ]
  },
  {
   "cell_type": "markdown",
   "id": "389be702-94c8-4fe4-a206-5a4a99d9763f",
   "metadata": {},
   "source": [
    "* Comparing these metrics :\n",
    "    * **MAE** is the easiest to understand, because it is the average error\n",
    "    * **MSE** is more popular than MAE, because MSE \"punishes\" larger errors, which tends to be useful in the real world\n",
    "    * **RMSE** is even more popular than MSE, because RMSE is interpretable in the \"y\" units\n",
    "* All of these are **loss functions**, because we want to minimize them"
   ]
  },
  {
   "cell_type": "markdown",
   "id": "4ef2d264-5a3c-4af1-bc1e-169fce7bd38a",
   "metadata": {},
   "source": [
    "**R^2 :** \n",
    "* aka : coefficient of determination\n",
    "* if the model is only prdicting the mean of the targets, R^2 value would be 0\n",
    "  ==> model is poor\n",
    "* if the model is perfectly predicting the targets, R^2 value would be 1"
   ]
  },
  {
   "cell_type": "code",
   "execution_count": null,
   "id": "fa85adcf-ce76-43e5-8a8c-03f4c02bf769",
   "metadata": {},
   "outputs": [],
   "source": [
    "!pip install scikit-learn"
   ]
  },
  {
   "cell_type": "code",
   "execution_count": null,
   "id": "a04d40ba-05a7-4a9f-a07c-2f019c548fc6",
   "metadata": {},
   "outputs": [],
   "source": [
    "# Create evaluation functions \n",
    "from sklearn.metrics import mean_squared_error, mean_absolute_error, explained_variance_score\n",
    "\n",
    "# Create function to get metrics from predicted values vs true values\n",
    "def get_scores(predictions, y):\n",
    "    \"\"\"\n",
    "    Caculates between predictions and true labels: \n",
    "        - mae,\n",
    "        - mse,\n",
    "        - rmse\n",
    "        - r2\n",
    "    \"\"\"\n",
    "    mae = mean_absolute_error(y, predictions)\n",
    "    mse = mean_squared_error(y, predictions)\n",
    "    rmse = np.sqrt(mse)\n",
    "    r2 = explained_variance_score(y, predictions)\n",
    "    scores = {\"MAE\": mae,\n",
    "              \"MSE\": mse,\n",
    "              \"RMSE\": rmse,\n",
    "              \"R2\": r2\n",
    "              }\n",
    "    return scores\n",
    "\n",
    "def show_scores(scores):\n",
    "    \"\"\"\n",
    "    Shows metrics: \n",
    "        - mae,\n",
    "        - mse,\n",
    "        - rmse\n",
    "        - r2\n",
    "    \"\"\"\n",
    "    print(f\"\\tR^2 : {scores['R2']:.2f}\")\n",
    "    print(f\"\\tMAE : {scores['MAE']:.2f}\")\n",
    "    print(f\"\\tMSE : {scores['MSE']:.2f}\")\n",
    "    print(f\"\\tRMSE : {scores['RMSE']:.2f}\")\n",
    "    print('')\n",
    "\n",
    "def show_scores_data_frame(scores, col_name):\n",
    "    \"\"\"\n",
    "    Shows metrics in a data frame: \n",
    "        - mae,\n",
    "        - mse,\n",
    "        - rmse\n",
    "        - r2\n",
    "    \"\"\"\n",
    "    df = pd.DataFrame(scores.values(), scores.keys(), columns=[col_name])\n",
    "    print(df)\n",
    "\n",
    "def show_intercept_coefs(lr, cols):\n",
    "    print(f\"Intercept b_0 : {lr.intercept_}\")\n",
    "    print('')\n",
    "    cdf = pd.DataFrame(lr.coef_, cols, columns=['Coefficient'])\n",
    "    cdf = cdf.sort_values(by=['Coefficient'], ascending=False)\n",
    "    print(cdf)   "
   ]
  },
  {
   "cell_type": "code",
   "execution_count": null,
   "id": "48e0d2d7-3cf4-4797-ba1c-ba99667bc651",
   "metadata": {},
   "outputs": [],
   "source": []
  },
  {
   "cell_type": "code",
   "execution_count": null,
   "id": "51975d9d-f8c6-4e10-a787-5e4f24c85269",
   "metadata": {},
   "outputs": [],
   "source": [
    "train_data_encoded = train_data"
   ]
  },
  {
   "cell_type": "code",
   "execution_count": null,
   "id": "8fd0b159-5954-40c2-9156-521226a932c0",
   "metadata": {},
   "outputs": [],
   "source": []
  },
  {
   "cell_type": "markdown",
   "id": "14f38422-3a44-4c4c-8ebb-693b68bfd729",
   "metadata": {},
   "source": [
    "## 8. Modeling (II)"
   ]
  },
  {
   "cell_type": "markdown",
   "id": "a519fb1f-163d-42b4-8da9-92e182af39e7",
   "metadata": {},
   "source": [
    "**Multiple Linear Regression :**\n",
    "* Trying to find the `coefficient` and the `slope` for :\n",
    "\\begin{align*}\n",
    "\\hat{y} = b_0 + b_1{x}_{1} + b_2{x}_{2} + ... + b_n{x}_{n}\\\\\n",
    "\\end{align*}"
   ]
  },
  {
   "cell_type": "code",
   "execution_count": null,
   "id": "3069bff3-7dfc-4bd1-9c1c-cd6c192b7749",
   "metadata": {},
   "outputs": [],
   "source": [
    "train_data_encoded.shape"
   ]
  },
  {
   "cell_type": "code",
   "execution_count": null,
   "id": "ae598d6d-3cd5-4bf5-b4f4-4af0bb399a5d",
   "metadata": {},
   "outputs": [],
   "source": [
    "X = pd.DataFrame(train_data_encoded[['x', 'x2', 'x3', 'x4', 'G_F']])\n",
    "y = train_data_encoded['y']\n",
    "from sklearn.model_selection import train_test_split\n",
    "X_train, X_val, y_train, y_val = train_test_split(X, y, test_size=0.2, random_state=42)"
   ]
  },
  {
   "cell_type": "code",
   "execution_count": null,
   "id": "e3cc0a12-1efe-4710-9c84-a1b2a60cab22",
   "metadata": {},
   "outputs": [],
   "source": [
    "from sklearn.linear_model import LinearRegression\n",
    "lr = LinearRegression()\n",
    "lr.fit(X_train, y_train)"
   ]
  },
  {
   "cell_type": "code",
   "execution_count": null,
   "id": "933bd69a-7d0e-4779-ac02-10dbc8191962",
   "metadata": {},
   "outputs": [],
   "source": []
  },
  {
   "cell_type": "markdown",
   "id": "6dadaa84-ab30-4538-8329-922a9a7de45c",
   "metadata": {},
   "source": [
    "**Making Predictions on `X_train` and `X_val` : **"
   ]
  },
  {
   "cell_type": "code",
   "execution_count": null,
   "id": "356edcd2-6ddd-4ca2-88f5-231588f439e7",
   "metadata": {},
   "outputs": [],
   "source": [
    "train_predictions = lr.predict(X_train)\n",
    "val_predictions = lr.predict(X_val)\n",
    "\n",
    "train_scores = get_scores(train_predictions, y_train)\n",
    "val_scores = get_scores(val_predictions, y_val)\n",
    "\n",
    "print('')\n",
    "#print(f\"Training :\")\n",
    "#show_scores(train_scores)\n",
    "show_scores_data_frame(train_scores, 'Training')\n",
    "print('')\n",
    "#print(f\"Validation :\")\n",
    "#show_scores(val_scores)\n",
    "show_scores_data_frame(val_scores, 'Validation')\n",
    "#\n",
    "print('')\n",
    "\n",
    "show_intercept_coefs(lr, X_train.columns)"
   ]
  },
  {
   "cell_type": "markdown",
   "id": "6d55d6e9-0c37-46a5-9b9b-a8e9c055f482",
   "metadata": {},
   "source": [
    "* Trying to find the `coefficient` and the `slope` for :\n",
    "\\begin{align*}\n",
    "\\hat{y} = b_0 + b_1{x}_{1} + b_2{x}_{2} + ... + b_n{x}_{n}\\\\\n",
    "\\end{align*}"
   ]
  },
  {
   "cell_type": "markdown",
   "id": "353bf5d8-3377-4fa2-9bc4-92d492ffe17f",
   "metadata": {},
   "source": [
    "  $$\\hat{y} = 9.97 + 3.00 * {x}_{1} + -1.03e-06 * {x}_{2} + 6.27e-09 * {x}_{3} + 1.06e-07 * {x}_{4}$$"
   ]
  },
  {
   "cell_type": "markdown",
   "id": "52767a50-aba8-43dc-b40b-28329f3bbacd",
   "metadata": {},
   "source": [
    "**R^2 (default score): Each model has a default metric set up by default :**"
   ]
  },
  {
   "cell_type": "code",
   "execution_count": null,
   "id": "42435b16-39d5-42fd-8c0e-657a995c8349",
   "metadata": {},
   "outputs": [],
   "source": [
    "r_2_on_train = lr.score(X_train, y_train) \n",
    "print(f\"R^2 on Training data = {r_2_on_train}\")\n",
    "r_2_on_val = lr.score(X_val, y_val) \n",
    "print(f\"R^2 on Validation data = {r_2_on_val}\")"
   ]
  },
  {
   "cell_type": "markdown",
   "id": "ad4092ec-402c-4576-ac33-9679a7d37d79",
   "metadata": {},
   "source": [
    "**Plot Predicted values vs True Values :**"
   ]
  },
  {
   "cell_type": "code",
   "execution_count": null,
   "id": "f410f25c-9a5c-4dfd-a95c-5960d45bdf9b",
   "metadata": {},
   "outputs": [],
   "source": [
    "plt.scatter(y_val, val_predictions)\n",
    "plt.xlabel('Y val ( True Values )')\n",
    "plt.ylabel('Predicted Values ')\n",
    "plt.show()"
   ]
  },
  {
   "cell_type": "code",
   "execution_count": null,
   "id": "36ba1ec9-2a2f-4bf4-8931-8935af7ae62a",
   "metadata": {},
   "outputs": [],
   "source": [
    "# Example of predicting a single value using a new data point\n",
    "new_data = np.array([[20, 2222222, 3333333, 4444444, 1]]) \n",
    "single_prediction = lr.predict(new_data)\n",
    "print(f\"Predicted value for the new data point {new_data[0]}: {single_prediction[0]}\")"
   ]
  },
  {
   "cell_type": "code",
   "execution_count": null,
   "id": "2c0a8093-264e-4751-90b3-11b08f76d53e",
   "metadata": {},
   "outputs": [],
   "source": []
  },
  {
   "cell_type": "markdown",
   "id": "c0a90e69-edc8-45f5-8ae8-e852ebd5bb50",
   "metadata": {},
   "source": [
    "**Saving and Loading Models in Scikit-learn :**\n",
    "- Scikit-learn supports the Python packages :\n",
    "  * `Pickle` ( not covered in student guide )\n",
    "  * `Joblib`"
   ]
  },
  {
   "cell_type": "code",
   "execution_count": null,
   "id": "7ea0530e-019f-414b-a8f1-5c208fcb356f",
   "metadata": {},
   "outputs": [],
   "source": [
    "import joblib \n",
    "\n",
    "# save model with joblib \n",
    "filename = 'models/lr2.joblib'\n",
    "joblib.dump(lr, filename)"
   ]
  },
  {
   "cell_type": "code",
   "execution_count": null,
   "id": "4c44b9bc-efa5-413d-9d03-674def669459",
   "metadata": {},
   "outputs": [],
   "source": [
    "# load model with joblib\n",
    "loaded_model = joblib.load(filename)"
   ]
  },
  {
   "cell_type": "code",
   "execution_count": null,
   "id": "32feccc8-1312-437a-947d-853eef74d30b",
   "metadata": {},
   "outputs": [],
   "source": [
    "# Example of predicting a single value using a new data point\n",
    "new_data = np.array([[20, 2222222, 3333333, 4444444, 1]]) \n",
    "single_prediction = loaded_model.predict(new_data)\n",
    "print(f\"Predicted value for the new data point {new_data[0]}: {single_prediction[0]}\")"
   ]
  },
  {
   "cell_type": "code",
   "execution_count": null,
   "id": "50df0fc5-1fe7-4aa9-bcfb-17fb490b2e43",
   "metadata": {},
   "outputs": [],
   "source": []
  },
  {
   "cell_type": "markdown",
   "id": "bc2c0362-e682-498a-8bdc-95dd17edc2de",
   "metadata": {},
   "source": [
    "**Convert the Scikit-learn model to ONNX and save :**"
   ]
  },
  {
   "cell_type": "code",
   "execution_count": null,
   "id": "87c222d7-4c53-4109-961c-df1fc08e9736",
   "metadata": {},
   "outputs": [],
   "source": [
    "#TBD"
   ]
  },
  {
   "cell_type": "code",
   "execution_count": null,
   "id": "b2a2565f-7faf-4bf2-8f34-b53f50837ef5",
   "metadata": {},
   "outputs": [],
   "source": []
  },
  {
   "cell_type": "code",
   "execution_count": null,
   "id": "e612de4b-e09a-440c-af1b-907beb5b1b69",
   "metadata": {},
   "outputs": [],
   "source": []
  }
 ],
 "metadata": {
  "kernelspec": {
   "display_name": "Python 3 (ipykernel)",
   "language": "python",
   "name": "python3"
  },
  "language_info": {
   "codemirror_mode": {
    "name": "ipython",
    "version": 3
   },
   "file_extension": ".py",
   "mimetype": "text/x-python",
   "name": "python",
   "nbconvert_exporter": "python",
   "pygments_lexer": "ipython3",
   "version": "3.11.5"
  }
 },
 "nbformat": 4,
 "nbformat_minor": 5
}
