{
 "cells": [
  {
   "cell_type": "code",
   "execution_count": null,
   "id": "08adaaaf-9dee-4459-8622-87349e99fe03",
   "metadata": {},
   "outputs": [],
   "source": [
    "!pip install numpy"
   ]
  },
  {
   "cell_type": "code",
   "execution_count": null,
   "id": "c8c8465f-88a2-4690-a0a9-2cc74534b639",
   "metadata": {},
   "outputs": [],
   "source": [
    "!pip install pandas"
   ]
  },
  {
   "cell_type": "code",
   "execution_count": null,
   "id": "0f13bab3-6c4a-4670-9aec-050d0a0bf7b7",
   "metadata": {},
   "outputs": [],
   "source": [
    "!pip install matplotlib"
   ]
  },
  {
   "cell_type": "code",
   "execution_count": null,
   "id": "4b472906-0269-4fae-9071-f2820c2becf7",
   "metadata": {},
   "outputs": [],
   "source": [
    "!pip install seaborn"
   ]
  },
  {
   "cell_type": "code",
   "execution_count": null,
   "id": "0eb02c1b-c339-42aa-9631-6eee01febaa7",
   "metadata": {},
   "outputs": [],
   "source": [
    "!pip install scikit-learn"
   ]
  },
  {
   "cell_type": "markdown",
   "id": "2decb367-d6d0-4fe6-9d52-f37b31b2e1a2",
   "metadata": {},
   "source": [
    "## Notebooks Pipeline using Built-in IPython Magic `%run`"
   ]
  },
  {
   "cell_type": "code",
   "execution_count": null,
   "id": "d646716f-ca9f-4216-99a9-b4ad4be50c60",
   "metadata": {},
   "outputs": [],
   "source": [
    "%run 0b-LoadCleanAnalyzePreProcessData.ipynb"
   ]
  },
  {
   "cell_type": "code",
   "execution_count": null,
   "id": "53dedc60-6e17-402f-9766-3a5c9dd8750c",
   "metadata": {},
   "outputs": [],
   "source": [
    "%run 0c-trainModel-v1-SimpleLinearRegression.ipynb"
   ]
  },
  {
   "cell_type": "code",
   "execution_count": null,
   "id": "3d6d0f07-f574-4bfe-8bf0-00b1babb479e",
   "metadata": {},
   "outputs": [],
   "source": [
    "%run 0d-trainModel-v2-SimpleLinearRegression.ipynb"
   ]
  },
  {
   "cell_type": "code",
   "execution_count": null,
   "id": "e563cc46-5adc-43a9-a146-8ee42ecb77b5",
   "metadata": {},
   "outputs": [],
   "source": []
  },
  {
   "cell_type": "markdown",
   "id": "c30bbdc3-60e1-413b-93f1-e9dff6fd6946",
   "metadata": {},
   "source": [
    "`% run :`\n",
    "\n",
    "* Built-in IPython Magic\n",
    "* Enables execution of : \n",
    "    * Notebooks\n",
    "    or\n",
    "    * Python Scripts\n",
    "* !! Only available in IPython Kernel !!\n",
    "* !! Static !!\n",
    "* !! Not Easy to schedule !! "
   ]
  },
  {
   "cell_type": "markdown",
   "id": "a3e34355-437a-46a2-8837-fd764f1846e1",
   "metadata": {},
   "source": [
    "**Other tools :**\n",
    "* nbconvert python module\n",
    "* papermill python module"
   ]
  },
  {
   "cell_type": "code",
   "execution_count": null,
   "id": "6acb9357-d816-42f3-af66-00ae476a8d8a",
   "metadata": {},
   "outputs": [],
   "source": []
  },
  {
   "cell_type": "code",
   "execution_count": null,
   "id": "2a37d5f2-f1dd-4f75-8a0f-df6d0adeb7a8",
   "metadata": {},
   "outputs": [],
   "source": []
  },
  {
   "cell_type": "code",
   "execution_count": null,
   "id": "646359a8-0a60-4e57-b14f-84c20e361b71",
   "metadata": {},
   "outputs": [],
   "source": []
  }
 ],
 "metadata": {
  "kernelspec": {
   "display_name": "Python 3 (ipykernel)",
   "language": "python",
   "name": "python3"
  },
  "language_info": {
   "codemirror_mode": {
    "name": "ipython",
    "version": 3
   },
   "file_extension": ".py",
   "mimetype": "text/x-python",
   "name": "python",
   "nbconvert_exporter": "python",
   "pygments_lexer": "ipython3",
   "version": "3.11.5"
  }
 },
 "nbformat": 4,
 "nbformat_minor": 5
}
