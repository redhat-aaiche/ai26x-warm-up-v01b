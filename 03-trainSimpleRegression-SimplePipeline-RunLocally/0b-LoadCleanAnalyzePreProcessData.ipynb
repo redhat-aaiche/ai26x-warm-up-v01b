{
 "cells": [
  {
   "cell_type": "code",
   "execution_count": null,
   "id": "4c92596e-c100-43d2-8125-3a6d22b9ee85",
   "metadata": {},
   "outputs": [],
   "source": [
    "!pip install numpy"
   ]
  },
  {
   "cell_type": "code",
   "execution_count": null,
   "id": "aeebaa75-ff33-413f-926a-77f0bf6049b3",
   "metadata": {},
   "outputs": [],
   "source": [
    "!pip install pandas"
   ]
  },
  {
   "cell_type": "code",
   "execution_count": null,
   "id": "4b8448b0-7efe-43c8-9c84-d4f66639507c",
   "metadata": {},
   "outputs": [],
   "source": [
    "!pip install matplotlib"
   ]
  },
  {
   "cell_type": "code",
   "execution_count": null,
   "id": "060f7d67-cda2-4e1b-94d5-db3c6180fcd6",
   "metadata": {},
   "outputs": [],
   "source": [
    "!pip install seaborn"
   ]
  },
  {
   "cell_type": "markdown",
   "id": "52acd37f-e9f5-4a68-bc54-d8b6ea439b80",
   "metadata": {},
   "source": [
    "## 2. Import the required libraries"
   ]
  },
  {
   "cell_type": "code",
   "execution_count": null,
   "id": "21f669b8-ad77-4f8d-a227-d5a02a168e03",
   "metadata": {},
   "outputs": [],
   "source": [
    "import pandas as pd \n",
    "import numpy as np \n",
    "import matplotlib.pyplot as plt \n",
    "import seaborn as sns "
   ]
  },
  {
   "cell_type": "code",
   "execution_count": null,
   "id": "dea680c6-0ada-4faf-8c19-1ba7d6486fc4",
   "metadata": {},
   "outputs": [],
   "source": []
  },
  {
   "cell_type": "markdown",
   "id": "2decb367-d6d0-4fe6-9d52-f37b31b2e1a2",
   "metadata": {},
   "source": [
    "## 3. Load Data"
   ]
  },
  {
   "cell_type": "code",
   "execution_count": null,
   "id": "d646716f-ca9f-4216-99a9-b4ad4be50c60",
   "metadata": {},
   "outputs": [],
   "source": [
    "# Load data\n",
    "train_data = pd.read_csv('data/myfile.csv')\n",
    "# Separate features and target variable\n",
    "#X_train = train_data.drop(['SalePrice'], axis=1)\n",
    "y = train_data['y']"
   ]
  },
  {
   "cell_type": "code",
   "execution_count": null,
   "id": "53dedc60-6e17-402f-9766-3a5c9dd8750c",
   "metadata": {},
   "outputs": [],
   "source": [
    "train_data"
   ]
  },
  {
   "cell_type": "code",
   "execution_count": null,
   "id": "e563cc46-5adc-43a9-a146-8ee42ecb77b5",
   "metadata": {},
   "outputs": [],
   "source": []
  },
  {
   "cell_type": "markdown",
   "id": "4c2f5aff-230e-42a6-90c2-278f5327799b",
   "metadata": {},
   "source": [
    "## 4. Exploratory Data Analysis / Analysis / Pre-Processing"
   ]
  },
  {
   "cell_type": "markdown",
   "id": "b0a9c736-9a99-456c-81ca-de22290e2872",
   "metadata": {},
   "source": [
    "**What are the Data Types of the Features ?**"
   ]
  },
  {
   "cell_type": "code",
   "execution_count": null,
   "id": "7d1ba640-6f5e-4739-affc-7df63e884e55",
   "metadata": {},
   "outputs": [],
   "source": [
    "print(\"What are the Data Types of the Features ?\")\n",
    "print(train_data.info())"
   ]
  },
  {
   "cell_type": "markdown",
   "id": "03ae21f7-96e1-49a8-bb4d-6bd832f43593",
   "metadata": {},
   "source": [
    "**Plots :**"
   ]
  },
  {
   "cell_type": "code",
   "execution_count": null,
   "id": "e1ee40c7-ce32-4b1f-85c9-5bd33103cac0",
   "metadata": {},
   "outputs": [],
   "source": [
    "sns.lmplot(x='x', y=\"y\", hue='G', data=train_data)"
   ]
  },
  {
   "cell_type": "code",
   "execution_count": null,
   "id": "099e53e0-6625-43bc-9bb2-97676a57fe96",
   "metadata": {},
   "outputs": [],
   "source": [
    "X = train_data\n",
    "X_m = X.loc[X['G']==\"M\"]\n",
    "X_f = X.loc[X['G']==\"F\"]\n",
    "sns.regplot(x=X_m['x'],y=X_m['y'])\n",
    "plt.title(\"Distribution for M\")\n",
    "plt.show()\n",
    "plt.title(\"Distribution for F \")\n",
    "sns.regplot(x=X_f['x'],y=X_f['y'])\n",
    "plt.show()"
   ]
  },
  {
   "cell_type": "markdown",
   "id": "eb440a9d-fe4e-4925-9b9f-1eb092bab5e1",
   "metadata": {},
   "source": [
    "**Is there any missing values ?**"
   ]
  },
  {
   "cell_type": "code",
   "execution_count": null,
   "id": "4f83d4e5-d9dd-4910-8191-eeb49bf03b02",
   "metadata": {},
   "outputs": [],
   "source": [
    "#check if null values is present in dataset or not.....\n",
    "train_data.isnull().sum()"
   ]
  },
  {
   "cell_type": "code",
   "execution_count": null,
   "id": "ea7330f0-d6f7-4edc-b57d-c56f13916e3e",
   "metadata": {},
   "outputs": [],
   "source": []
  },
  {
   "cell_type": "markdown",
   "id": "c9900b7d-202c-4d0a-a659-2453dbe69251",
   "metadata": {},
   "source": [
    "**Let's drop the missing values :**"
   ]
  },
  {
   "cell_type": "code",
   "execution_count": null,
   "id": "999d1503-f012-4590-8c14-ee14f57a0fa0",
   "metadata": {},
   "outputs": [],
   "source": [
    "train_data = train_data.dropna() "
   ]
  },
  {
   "cell_type": "code",
   "execution_count": null,
   "id": "79dcb07b-bdec-492c-9c09-299cf9d32a47",
   "metadata": {},
   "outputs": [],
   "source": [
    "#check if null values is present in dataset or not.....\n",
    "train_data.isnull().sum()"
   ]
  },
  {
   "cell_type": "markdown",
   "id": "726419bd-049f-4859-a297-3b496075d86a",
   "metadata": {},
   "source": [
    "**Is there Any Outliers in the `y` Target ?**"
   ]
  },
  {
   "cell_type": "code",
   "execution_count": null,
   "id": "708d84d0-e6bd-42e4-8d29-224e8ce7f228",
   "metadata": {},
   "outputs": [],
   "source": [
    "sns.set_style('darkgrid')\n",
    "plt.figure(figsize=(8, 6))\n",
    "sns.scatterplot(x='x', y='y', data=train_data)\n",
    "title = plt.title('y vs. x')"
   ]
  },
  {
   "cell_type": "markdown",
   "id": "0d9983f3-b607-4412-8b84-6c5ae3c3d355",
   "metadata": {},
   "source": [
    "**Drop the outliers :**"
   ]
  },
  {
   "cell_type": "code",
   "execution_count": null,
   "id": "264ddfc1-7c7b-4fd8-93a6-9462010bfe1c",
   "metadata": {},
   "outputs": [],
   "source": [
    "outlier_index = train_data[(train_data.x < 400)\n",
    "                           & (train_data.y < 200 * 1000000000)].index\n",
    "train_data.drop(outlier_index, axis=0, inplace=True)\n",
    "y.drop(outlier_index, axis=0, inplace=True)"
   ]
  },
  {
   "cell_type": "code",
   "execution_count": null,
   "id": "d382b3ff-5ea4-4095-88e6-ebaf5e81af7d",
   "metadata": {},
   "outputs": [],
   "source": [
    "sns.set_style('darkgrid')\n",
    "plt.figure(figsize=(8, 6))\n",
    "sns.scatterplot(x='x', y='y', data=train_data)\n",
    "title = plt.title('y vs. x')"
   ]
  },
  {
   "cell_type": "code",
   "execution_count": null,
   "id": "e58c06a8-ebc3-4dcf-b95c-f8f38d3220ed",
   "metadata": {},
   "outputs": [],
   "source": [
    "train_data.isnull().sum()"
   ]
  },
  {
   "cell_type": "markdown",
   "id": "c1506d75-223f-43b2-937f-25f9b32de712",
   "metadata": {},
   "source": [
    "**Display the top features most correlated with `y` :**"
   ]
  },
  {
   "cell_type": "code",
   "execution_count": null,
   "id": "2cfbda13-7720-4c0a-93d4-3bfa9f9ed48e",
   "metadata": {},
   "outputs": [],
   "source": [
    "# Calculate the correlation of all features with 'y'\n",
    "correlations = train_data.corr(numeric_only=True)['y'].sort_values(ascending=False)\n",
    "# Display the top features most correlated with 'SalePrice'\n",
    "top_correlations = correlations[1:11]\n",
    "print(top_correlations)"
   ]
  },
  {
   "cell_type": "markdown",
   "id": "e08cc05d-1b2e-47dd-bed7-80a9f9453ab9",
   "metadata": {},
   "source": [
    "**Scatter Plot :**"
   ]
  },
  {
   "cell_type": "code",
   "execution_count": null,
   "id": "c8e96226-444d-4dab-a7e2-5e1fb33484c4",
   "metadata": {},
   "outputs": [],
   "source": [
    "# Setting up the figure and axes\n",
    "fig, ax = plt.subplots(2, 2, figsize=(15, 12))\n",
    "\n",
    "# Scatter plot for y vs. x\n",
    "sns.scatterplot(x=train_data['x'], y=train_data['y'], ax=ax[0, 0], color='blue', alpha=0.6)\n",
    "ax[0, 0].set_title('y vs. x')\n",
    "ax[0, 0].set_ylabel('y')\n",
    "ax[0, 0].set_xlabel('x')\n",
    "\n",
    "# Scatter plot for y vs. x2\n",
    "sns.scatterplot(x=train_data['x2'], y=train_data['y'], ax=ax[0, 1], color='red', alpha=0.6)\n",
    "ax[0, 1].set_title('y vs. x2')\n",
    "ax[0, 1].set_ylabel('y')\n",
    "ax[0, 1].set_xlabel('x2')\n",
    "\n",
    "# Scatter plot for y vs. x3\n",
    "sns.scatterplot(x=train_data['x3'], y=train_data['y'], ax=ax[1, 0], color='magenta', alpha=0.6)\n",
    "ax[1, 0].set_title('y vs. x3')\n",
    "ax[1, 0].set_ylabel('y')\n",
    "ax[1, 0].set_xlabel('x3')\n",
    "\n",
    "# Scatter plot for y vs. x4\n",
    "sns.scatterplot(x=train_data['x4'], y=train_data['y'], ax=ax[1, 1], color='brown', alpha=0.6)\n",
    "ax[1, 1].set_title('y vs. x4')\n",
    "ax[1, 1].set_ylabel('y')\n",
    "ax[1, 1].set_xlabel('x4')\n",
    "\n",
    "\n",
    "# Adjust layout\n",
    "plt.tight_layout(pad=3.0)\n",
    "plt.show()"
   ]
  },
  {
   "cell_type": "markdown",
   "id": "74c794b7-0229-4f2e-a879-a8646f0270f0",
   "metadata": {},
   "source": [
    "**Plots - before training :**"
   ]
  },
  {
   "cell_type": "code",
   "execution_count": null,
   "id": "39932428-add1-4fd9-b468-3e30fb0fd048",
   "metadata": {},
   "outputs": [],
   "source": [
    "sns.set_style('darkgrid')\n",
    "plt.figure(figsize=(8, 6))\n",
    "sns.scatterplot(x='x', y='y', data=train_data)\n",
    "title = plt.title('y vs. x')"
   ]
  },
  {
   "cell_type": "code",
   "execution_count": null,
   "id": "71087ea9-08ce-43c9-8be2-8d42a72494b7",
   "metadata": {},
   "outputs": [],
   "source": [
    "sns.lmplot(x='x', y=\"y\", hue='G', data=train_data)"
   ]
  },
  {
   "cell_type": "code",
   "execution_count": null,
   "id": "112c1346-c8a6-4a65-a982-e6964edad696",
   "metadata": {},
   "outputs": [],
   "source": []
  },
  {
   "cell_type": "markdown",
   "id": "0a1962fa-af02-4d71-a43e-c59216d0534d",
   "metadata": {},
   "source": [
    "## 5. Feature Engineering"
   ]
  },
  {
   "cell_type": "code",
   "execution_count": null,
   "id": "4eabf1cf-8d3a-4e2e-a63b-0ce809dee6ea",
   "metadata": {},
   "outputs": [],
   "source": [
    "train_data.isnull().sum()"
   ]
  },
  {
   "cell_type": "code",
   "execution_count": null,
   "id": "597cc5bb-cce3-4e59-825e-ec8387ffaa0e",
   "metadata": {},
   "outputs": [],
   "source": [
    "train_data_encoded = pd.get_dummies(train_data, columns=['G', ])\n",
    "train_data_encoded"
   ]
  },
  {
   "cell_type": "code",
   "execution_count": null,
   "id": "726a49ee-d09c-41d0-9fcf-891b41196cb1",
   "metadata": {},
   "outputs": [],
   "source": [
    "train_data_encoded"
   ]
  },
  {
   "cell_type": "code",
   "execution_count": null,
   "id": "b2a2565f-7faf-4bf2-8f34-b53f50837ef5",
   "metadata": {},
   "outputs": [],
   "source": [
    "train_data_encoded.isnull().sum()"
   ]
  },
  {
   "cell_type": "code",
   "execution_count": null,
   "id": "1eaea5f9-2ff1-4fa2-a5cf-9e34121670a1",
   "metadata": {},
   "outputs": [],
   "source": [
    "train_data_encoded.to_csv('./data/myfileCleaned.csv', sep=',', index=False, encoding='utf-8')"
   ]
  },
  {
   "cell_type": "code",
   "execution_count": null,
   "id": "d80731b7-4550-461e-8c61-361f37085b79",
   "metadata": {},
   "outputs": [],
   "source": []
  },
  {
   "cell_type": "code",
   "execution_count": null,
   "id": "a41a6f17-d0e4-42c6-9881-cb92b0f4fede",
   "metadata": {},
   "outputs": [],
   "source": []
  },
  {
   "cell_type": "code",
   "execution_count": null,
   "id": "6acb9357-d816-42f3-af66-00ae476a8d8a",
   "metadata": {},
   "outputs": [],
   "source": []
  },
  {
   "cell_type": "code",
   "execution_count": null,
   "id": "f61fad50-0297-40b5-83e8-0825fc1e9e10",
   "metadata": {},
   "outputs": [],
   "source": []
  }
 ],
 "metadata": {
  "kernelspec": {
   "display_name": "Python 3 (ipykernel)",
   "language": "python",
   "name": "python3"
  },
  "language_info": {
   "codemirror_mode": {
    "name": "ipython",
    "version": 3
   },
   "file_extension": ".py",
   "mimetype": "text/x-python",
   "name": "python",
   "nbconvert_exporter": "python",
   "pygments_lexer": "ipython3",
   "version": "3.11.5"
  }
 },
 "nbformat": 4,
 "nbformat_minor": 5
}
