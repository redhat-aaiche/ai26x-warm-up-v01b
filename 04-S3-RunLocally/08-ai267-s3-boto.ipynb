{
 "cells": [
  {
   "cell_type": "code",
   "execution_count": 1,
   "id": "e48a371e-7726-4bdb-a729-2eb64f1aa495",
   "metadata": {
    "tags": []
   },
   "outputs": [
    {
     "name": "stdout",
     "output_type": "stream",
     "text": [
      "Requirement already satisfied: boto3 in ./.local/lib/python3.9/site-packages (1.34.149)\n",
      "Requirement already satisfied: s3transfer<0.11.0,>=0.10.0 in ./.local/lib/python3.9/site-packages (from boto3) (0.10.2)\n",
      "Requirement already satisfied: botocore<1.35.0,>=1.34.149 in ./.local/lib/python3.9/site-packages (from boto3) (1.34.149)\n",
      "Requirement already satisfied: jmespath<2.0.0,>=0.7.1 in ./.local/lib/python3.9/site-packages (from boto3) (1.0.1)\n",
      "Requirement already satisfied: python-dateutil<3.0.0,>=2.1 in /opt/conda/lib/python3.9/site-packages (from botocore<1.35.0,>=1.34.149->boto3) (2.8.2)\n",
      "Requirement already satisfied: urllib3<1.27,>=1.25.4 in /opt/conda/lib/python3.9/site-packages (from botocore<1.35.0,>=1.34.149->boto3) (1.26.7)\n",
      "Requirement already satisfied: six>=1.5 in /opt/conda/lib/python3.9/site-packages (from python-dateutil<3.0.0,>=2.1->botocore<1.35.0,>=1.34.149->boto3) (1.16.0)\n"
     ]
    }
   ],
   "source": [
    "!pip3 install boto3  --user"
   ]
  },
  {
   "cell_type": "code",
   "execution_count": 2,
   "id": "fd8b4e99-3bf6-4577-9186-66bac635effb",
   "metadata": {
    "tags": []
   },
   "outputs": [
    {
     "name": "stdout",
     "output_type": "stream",
     "text": [
      "Requirement already satisfied: botocore in ./.local/lib/python3.9/site-packages (1.34.149)\n",
      "Requirement already satisfied: jmespath<2.0.0,>=0.7.1 in ./.local/lib/python3.9/site-packages (from botocore) (1.0.1)\n",
      "Requirement already satisfied: urllib3<1.27,>=1.25.4 in /opt/conda/lib/python3.9/site-packages (from botocore) (1.26.7)\n",
      "Requirement already satisfied: python-dateutil<3.0.0,>=2.1 in /opt/conda/lib/python3.9/site-packages (from botocore) (2.8.2)\n",
      "Requirement already satisfied: six>=1.5 in /opt/conda/lib/python3.9/site-packages (from python-dateutil<3.0.0,>=2.1->botocore) (1.16.0)\n"
     ]
    }
   ],
   "source": [
    "!pip3 install botocore"
   ]
  },
  {
   "cell_type": "code",
   "execution_count": 3,
   "id": "6b74209f-591f-46ba-b11e-309f0bc9f1ae",
   "metadata": {
    "tags": []
   },
   "outputs": [],
   "source": [
    "import boto3\n",
    "from botocore.config import Config"
   ]
  },
  {
   "cell_type": "markdown",
   "id": "fd8d2502-3b03-4cce-9965-c542c5023c0b",
   "metadata": {
    "tags": []
   },
   "source": [
    "### Check the version of python"
   ]
  },
  {
   "cell_type": "code",
   "execution_count": 4,
   "id": "3d7fab33-f3cb-4906-bbed-8c0072ee4267",
   "metadata": {
    "tags": []
   },
   "outputs": [
    {
     "name": "stdout",
     "output_type": "stream",
     "text": [
      "Python 3.9.7\n"
     ]
    }
   ],
   "source": [
    "!python3 --version"
   ]
  },
  {
   "cell_type": "markdown",
   "id": "15b52d93-31ba-4ea3-8da5-e4012f12fef1",
   "metadata": {
    "tags": []
   },
   "source": [
    "### Create a bunch of temporay files in /tmp"
   ]
  },
  {
   "cell_type": "code",
   "execution_count": 5,
   "id": "a4553353-5d19-4fce-844e-f537a068a1d6",
   "metadata": {
    "tags": []
   },
   "outputs": [],
   "source": [
    "import os\n",
    "import tempfile"
   ]
  },
  {
   "cell_type": "code",
   "execution_count": 6,
   "id": "88f1e6e1-2d91-41b8-b127-b9834ce76971",
   "metadata": {
    "tags": []
   },
   "outputs": [
    {
     "name": "stdout",
     "output_type": "stream",
     "text": [
      "Temporary file path: /tmp/my_temp_xnr4ufyn.txt\n",
      "Temporary file path: /tmp/my_temp_f2qn529k.txt\n",
      "Temporary file path: /tmp/my_temp_e_kc1pe6.txt\n",
      "Temporary file path: /tmp/my_temp_xyft4lb2.txt\n",
      "Temporary file path: /tmp/my_temp_0gcezmpr.txt\n",
      "Temporary file path: /tmp/my_temp_i8d9zisp.txt\n",
      "Temporary file path: /tmp/my_temp_72djcoit.txt\n",
      "Temporary file path: /tmp/my_temp_rm2xk0do.txt\n",
      "Temporary file path: /tmp/my_temp_npy9b3x9.txt\n",
      "Temporary file path: /tmp/my_temp_rycw7zif.txt\n",
      "Temporary file path: /tmp/my_temp_jnqn36dh.txt\n",
      "Temporary file path: /tmp/my_temp__q342q2r.txt\n",
      "Temporary file path: /tmp/my_temp_z17ldz5r.txt\n",
      "Temporary file path: /tmp/my_temp_5zw03wdr.txt\n",
      "Temporary file path: /tmp/my_temp_4_4zeg81.txt\n",
      "Temporary file path: /tmp/my_temp_e1xddf4_.txt\n",
      "Temporary file path: /tmp/my_temp__ehac3h3.txt\n",
      "Temporary file path: /tmp/my_temp_vid8h983.txt\n",
      "Temporary file path: /tmp/my_temp_6qu8avag.txt\n",
      "Temporary file path: /tmp/my_temp_nskhyh1l.txt\n",
      "Temporary file path: /tmp/my_temp_51epcs73.txt\n",
      "Temporary file path: /tmp/my_temp_rcye09eh.txt\n",
      "Temporary file path: /tmp/my_temp_6_28h2wm.txt\n",
      "Temporary file path: /tmp/my_temp_281d3de3.txt\n",
      "Temporary file path: /tmp/my_temp_reqlqfk7.txt\n",
      "Temporary file path: /tmp/my_temp_kvv0hqzd.txt\n",
      "Temporary file path: /tmp/my_temp_mcro399_.txt\n",
      "Temporary file path: /tmp/my_temp_0or98wgj.txt\n",
      "Temporary file path: /tmp/my_temp_2_qs5f0w.txt\n",
      "Temporary file path: /tmp/my_temp_vaa0i836.txt\n",
      "Temporary file path: /tmp/my_temp_fx4wm2xy.txt\n",
      "Temporary file path: /tmp/my_temp_65jugjub.txt\n",
      "Temporary file path: /tmp/my_temp_cevttkma.txt\n",
      "Temporary file path: /tmp/my_temp_1wyi42if.txt\n",
      "Temporary file path: /tmp/my_temp_mcx85mkv.txt\n",
      "Temporary file path: /tmp/my_temp_x7l3kp4q.txt\n",
      "Temporary file path: /tmp/my_temp_se03f0hx.txt\n",
      "Temporary file path: /tmp/my_temp_fcxq0_bb.txt\n",
      "Temporary file path: /tmp/my_temp_jpk5cjbw.txt\n",
      "Temporary file path: /tmp/my_temp_ssvc_dt4.txt\n",
      "Temporary file path: /tmp/my_temp_l27dmivm.txt\n",
      "Temporary file path: /tmp/my_temp_qohhmjto.txt\n",
      "Temporary file path: /tmp/my_temp_nx10gavz.txt\n",
      "Temporary file path: /tmp/my_temp__7bnxegq.txt\n",
      "Temporary file path: /tmp/my_temp_540zrfnv.txt\n",
      "Temporary file path: /tmp/my_temp_hy4ci8m0.txt\n",
      "Temporary file path: /tmp/my_temp_l8cu9nnz.txt\n",
      "Temporary file path: /tmp/my_temp_jqxc8rvq.txt\n",
      "Temporary file path: /tmp/my_temp_32pdxh_v.txt\n",
      "Temporary file path: /tmp/my_temp_g_2nya77.txt\n",
      "Temporary file path: /tmp/my_temp_39cjxsjt.txt\n",
      "Temporary file path: /tmp/my_temp_xk_k5n07.txt\n",
      "Temporary file path: /tmp/my_temp_zfthptgw.txt\n",
      "Temporary file path: /tmp/my_temp_im0fqw2s.txt\n",
      "Temporary file path: /tmp/my_temp_z7uvij3u.txt\n",
      "Temporary file path: /tmp/my_temp_lc8urz6p.txt\n",
      "Temporary file path: /tmp/my_temp_6l_2aps4.txt\n",
      "Temporary file path: /tmp/my_temp_nwiowkwk.txt\n",
      "Temporary file path: /tmp/my_temp_8uzlsv3y.txt\n",
      "Temporary file path: /tmp/my_temp_jfkj28nx.txt\n",
      "Temporary file path: /tmp/my_temp_k9hfa94n.txt\n",
      "Temporary file path: /tmp/my_temp_fssujz6e.txt\n",
      "Temporary file path: /tmp/my_temp_dc52h0a3.txt\n",
      "Temporary file path: /tmp/my_temp_vuyjh6dc.txt\n",
      "Temporary file path: /tmp/my_temp_0jpuyu5n.txt\n",
      "Temporary file path: /tmp/my_temp_rhfory9e.txt\n",
      "Temporary file path: /tmp/my_temp_khqj071w.txt\n",
      "Temporary file path: /tmp/my_temp_wq9cvy71.txt\n",
      "Temporary file path: /tmp/my_temp_3akgczm2.txt\n",
      "Temporary file path: /tmp/my_temp_b1550_xb.txt\n",
      "Temporary file path: /tmp/my_temp_mzaqrna5.txt\n",
      "Temporary file path: /tmp/my_temp_ytgj0xs1.txt\n",
      "Temporary file path: /tmp/my_temp_h0_jyp28.txt\n",
      "Temporary file path: /tmp/my_temp_xt_89ibc.txt\n",
      "Temporary file path: /tmp/my_temp_n5nll670.txt\n",
      "Temporary file path: /tmp/my_temp_onbfh44x.txt\n",
      "Temporary file path: /tmp/my_temp__rmwl_cv.txt\n",
      "Temporary file path: /tmp/my_temp_pnfb6wzb.txt\n",
      "Temporary file path: /tmp/my_temp__davkikh.txt\n",
      "Temporary file path: /tmp/my_temp_1_xfn48v.txt\n",
      "Temporary file path: /tmp/my_temp_kxowhv1d.txt\n",
      "Temporary file path: /tmp/my_temp_mnfbogxf.txt\n",
      "Temporary file path: /tmp/my_temp_345nr5a3.txt\n",
      "Temporary file path: /tmp/my_temp_rhze5h3h.txt\n",
      "Temporary file path: /tmp/my_temp_1n9vbojb.txt\n",
      "Temporary file path: /tmp/my_temp_woavdwhi.txt\n",
      "Temporary file path: /tmp/my_temp_p0m7m4zv.txt\n",
      "Temporary file path: /tmp/my_temp_h_1knqmp.txt\n",
      "Temporary file path: /tmp/my_temp_aioldt66.txt\n",
      "Temporary file path: /tmp/my_temp_ft3myq34.txt\n",
      "Temporary file path: /tmp/my_temp_tfav84nq.txt\n",
      "Temporary file path: /tmp/my_temp_l83x6_6s.txt\n",
      "Temporary file path: /tmp/my_temp_icv2l_g3.txt\n",
      "Temporary file path: /tmp/my_temp_t8e1fpry.txt\n",
      "Temporary file path: /tmp/my_temp_7ttg0q42.txt\n",
      "Temporary file path: /tmp/my_temp_c71plsko.txt\n",
      "Temporary file path: /tmp/my_temp_idhjl5kb.txt\n",
      "Temporary file path: /tmp/my_temp_82tg4if4.txt\n",
      "Temporary file path: /tmp/my_temp_jj4sh710.txt\n",
      "Temporary file path: /tmp/my_temp_t1n1jxgn.txt\n"
     ]
    }
   ],
   "source": [
    "for _ in range(100):\n",
    "   with tempfile.NamedTemporaryFile(prefix='my_temp_', suffix='.txt', dir='/tmp', delete=False) as temp_file:\n",
    "      print(f'Temporary file path: {temp_file.name}')\n",
    "      temp_file.write(b'Hello World!\\n')\n",
    "      temp_file.close()"
   ]
  },
  {
   "cell_type": "markdown",
   "id": "dbfc15a2-6266-4837-aed3-44187df44dc8",
   "metadata": {},
   "source": [
    "### Install the boto3 library"
   ]
  },
  {
   "cell_type": "code",
   "execution_count": 7,
   "id": "9dab286a-9a40-45a4-84d9-2c8e55b1302d",
   "metadata": {
    "tags": []
   },
   "outputs": [
    {
     "name": "stdout",
     "output_type": "stream",
     "text": [
      "Requirement already satisfied: boto3 in ./.local/lib/python3.9/site-packages (1.34.149)\n",
      "Requirement already satisfied: botocore<1.35.0,>=1.34.149 in ./.local/lib/python3.9/site-packages (from boto3) (1.34.149)\n",
      "Requirement already satisfied: jmespath<2.0.0,>=0.7.1 in ./.local/lib/python3.9/site-packages (from boto3) (1.0.1)\n",
      "Requirement already satisfied: s3transfer<0.11.0,>=0.10.0 in ./.local/lib/python3.9/site-packages (from boto3) (0.10.2)\n",
      "Requirement already satisfied: urllib3<1.27,>=1.25.4 in /opt/conda/lib/python3.9/site-packages (from botocore<1.35.0,>=1.34.149->boto3) (1.26.7)\n",
      "Requirement already satisfied: python-dateutil<3.0.0,>=2.1 in /opt/conda/lib/python3.9/site-packages (from botocore<1.35.0,>=1.34.149->boto3) (2.8.2)\n",
      "Requirement already satisfied: six>=1.5 in /opt/conda/lib/python3.9/site-packages (from python-dateutil<3.0.0,>=2.1->botocore<1.35.0,>=1.34.149->boto3) (1.16.0)\n"
     ]
    }
   ],
   "source": [
    "!pip3 install boto3  --user"
   ]
  },
  {
   "cell_type": "markdown",
   "id": "0ba43711-522b-4d14-ab7f-060a9df73786",
   "metadata": {},
   "source": [
    "### What is the Minio API\n",
    "* It depends on your setting of the MiniIO Server"
   ]
  },
  {
   "cell_type": "code",
   "execution_count": 8,
   "id": "7a10dd04-fc44-4d68-94e1-c62f9b99c77b",
   "metadata": {
    "tags": []
   },
   "outputs": [],
   "source": [
    "MINIO_API_ENDPOINT='http://erminio:9000'"
   ]
  },
  {
   "cell_type": "markdown",
   "id": "24bdeda7-3f3e-4037-ba21-0926271c5ed1",
   "metadata": {},
   "source": [
    "### Fill in these variables after :\n",
    "* Create a User in MinIO\n",
    "* Create an ACCESS Key + SECRET ACCESS KEY for that user"
   ]
  },
  {
   "cell_type": "code",
   "execution_count": 9,
   "id": "0e83cc0a-157b-4e7d-b004-5d0dcd1ba9f5",
   "metadata": {
    "tags": []
   },
   "outputs": [],
   "source": [
    "MINIO_USER_ACCESS_KEY_ID = ''  # Change me\n",
    "MINIO_USER_SECRET_ACCESS_KEY = '' # Change me"
   ]
  },
  {
   "cell_type": "code",
   "execution_count": 10,
   "id": "67e6b503-2f5c-4684-9484-2ea8ce80f9e3",
   "metadata": {
    "tags": []
   },
   "outputs": [],
   "source": [
    "MINIO_USER_ACCESS_KEY_ID = 'DaD4wmK9bjHRmnj2DZoY'  # Change me\n",
    "MINIO_USER_SECRET_ACCESS_KEY = 'QZlbdxCJjGipxoWVZf9udUhFr4kTJsY6hkDSsUab' # Change me"
   ]
  },
  {
   "cell_type": "markdown",
   "id": "797a247d-eb07-4cf2-aeee-420d8da8232f",
   "metadata": {},
   "source": [
    "### This block is to make it easier to change the above setting\n",
    "* We could have set the above variables in 'system' environment variables"
   ]
  },
  {
   "cell_type": "code",
   "execution_count": 11,
   "id": "07d6e542-6854-417b-ba59-906bb9e8f49c",
   "metadata": {
    "tags": []
   },
   "outputs": [],
   "source": [
    "minio_endpoint_url=MINIO_API_ENDPOINT\n",
    "minio_access_key_id=MINIO_USER_ACCESS_KEY_ID\n",
    "minio_secret_access_key=MINIO_USER_SECRET_ACCESS_KEY"
   ]
  },
  {
   "cell_type": "markdown",
   "id": "d76275fb-4f42-45c8-a4be-311c10d01d36",
   "metadata": {
    "tags": []
   },
   "source": [
    "### Import the boto3 library\n",
    "* you might need to restart the kernel\n",
    "* why ? "
   ]
  },
  {
   "cell_type": "code",
   "execution_count": 12,
   "id": "12513c02-dfa6-44b9-91b3-109346c9635f",
   "metadata": {
    "tags": []
   },
   "outputs": [],
   "source": [
    "import boto3"
   ]
  },
  {
   "cell_type": "code",
   "execution_count": 13,
   "id": "aee0a2c0-0a0d-4641-93dd-c4cc8c05db13",
   "metadata": {
    "tags": []
   },
   "outputs": [],
   "source": [
    "FIRST_BUCKET='my-developer-bucket-src'\n",
    "SECOND_BUCKET = 'my-developer-bucket-dest'"
   ]
  },
  {
   "cell_type": "code",
   "execution_count": 14,
   "id": "bfdac33e-c0d8-4239-bc08-89e1c2ea297b",
   "metadata": {
    "tags": []
   },
   "outputs": [],
   "source": [
    "#s3.download_file(source_bucket, key, download_path)\n",
    "#s3.upload_file(upload_path, DEST_BUCKET, thumb)"
   ]
  },
  {
   "cell_type": "markdown",
   "id": "b254f77e-f3dc-42fd-9cd4-d88e7f160681",
   "metadata": {},
   "source": [
    "### Create an S3 service client to access the S3 API"
   ]
  },
  {
   "cell_type": "code",
   "execution_count": 27,
   "id": "ca79dd01-f79a-4fb0-b39a-de269440d93b",
   "metadata": {
    "tags": []
   },
   "outputs": [],
   "source": [
    "s3_client = boto3.client(\n",
    "        's3',\n",
    "        endpoint_url=minio_endpoint_url,\n",
    "        aws_access_key_id=minio_access_key_id,\n",
    "        aws_secret_access_key=minio_secret_access_key,\n",
    "        config=Config(signature_version='s3v4')\n",
    ")"
   ]
  },
  {
   "cell_type": "code",
   "execution_count": 28,
   "id": "0874d799-2a12-4eb1-80c4-a54ea687d972",
   "metadata": {
    "tags": []
   },
   "outputs": [
    {
     "name": "stdout",
     "output_type": "stream",
     "text": [
      "An error occurred while creating the S3 bucket: An error occurred (BucketAlreadyOwnedByYou) when calling the CreateBucket operation: Your previous request to create the named bucket succeeded and you already own it.\n",
      "An error occurred while creating the S3 bucket: An error occurred (BucketAlreadyOwnedByYou) when calling the CreateBucket operation: Your previous request to create the named bucket succeeded and you already own it.\n"
     ]
    }
   ],
   "source": [
    "for bucket_name in [FIRST_BUCKET, SECOND_BUCKET]:\n",
    "    try:\n",
    "        s3_client.create_bucket(Bucket=bucket_name)\n",
    "        print(f\"S3 bucket '{bucket_name}' created successfully\")\n",
    "    except Exception as e:\n",
    "        print(f\"An error occurred while creating the S3 bucket: {e}\")"
   ]
  },
  {
   "cell_type": "markdown",
   "id": "92689db2-5579-4811-b419-cec1033ba0d3",
   "metadata": {},
   "source": [
    "### List the buckets"
   ]
  },
  {
   "cell_type": "code",
   "execution_count": 20,
   "id": "1a5e485c-d398-4959-ac6d-a5353d3ee359",
   "metadata": {
    "tags": []
   },
   "outputs": [
    {
     "name": "stdout",
     "output_type": "stream",
     "text": [
      "Bucket name: my-developer-bucket-dest, Created on: 2024-07-29 10:51:32.460000+00:00\n",
      "Bucket name: my-developer-bucket-src, Created on: 2024-07-29 10:51:32.446000+00:00\n"
     ]
    }
   ],
   "source": [
    "#\n",
    "# S3 client list of buckets with name and is creation date\n",
    "#\n",
    "response = s3_client.list_buckets()['Buckets']\n",
    "for bucket in response:\n",
    "        print('Bucket name: {}, Created on: {}'.format(bucket['Name'], bucket['CreationDate']))"
   ]
  },
  {
   "cell_type": "markdown",
   "id": "206347ae-dba9-443f-aa36-8fe1f5327e25",
   "metadata": {},
   "source": [
    "### List Files in a /tmp"
   ]
  },
  {
   "cell_type": "code",
   "execution_count": null,
   "id": "c9118498-a50a-4710-88bc-f31adcb6ff6b",
   "metadata": {
    "tags": []
   },
   "outputs": [],
   "source": [
    "local_dir = r'/tmp'\n",
    "\n",
    "# list to store files\n",
    "list_of_local_files = []\n",
    "\n",
    "# Iterate directory\n",
    "for f in os.listdir(local_dir):\n",
    "   # check if current file_path is a file\n",
    "   if os.path.isfile(os.path.join(local_dir, f)):\n",
    "      # add filename to list\n",
    "      list_of_local_files.append(os.path.join(local_dir, f))\n",
    "list_of_local_files"
   ]
  },
  {
   "cell_type": "markdown",
   "id": "798154fe-c811-4af3-b375-e637743211bb",
   "metadata": {},
   "source": [
    "### Copy files to an S3 bucket"
   ]
  },
  {
   "cell_type": "code",
   "execution_count": 30,
   "id": "03f0c47b-ae73-4c5f-b49c-6c47535edc96",
   "metadata": {
    "tags": []
   },
   "outputs": [],
   "source": [
    "for f in list_of_local_files:\n",
    "   object_name = f.split('/')[-1]\n",
    "   s3_client.upload_file(f, FIRST_BUCKET, object_name)"
   ]
  },
  {
   "cell_type": "markdown",
   "id": "cf3fea73-942a-4571-8c06-ae5ed0240011",
   "metadata": {},
   "source": [
    "### List objects in an S3 bucket"
   ]
  },
  {
   "cell_type": "code",
   "execution_count": 36,
   "id": "0b48cb36-f689-4e8c-882a-5387b8cd6bb4",
   "metadata": {
    "tags": []
   },
   "outputs": [
    {
     "data": {
      "text/plain": [
       "['my_temp_02c8ezt9.txt',\n",
       " 'my_temp_0431njl4.txt',\n",
       " 'my_temp_08qxx_5x.txt',\n",
       " 'my_temp_0gcezmpr.txt',\n",
       " 'my_temp_0jpuyu5n.txt',\n",
       " 'my_temp_0opp1ey5.txt',\n",
       " 'my_temp_0or98wgj.txt',\n",
       " 'my_temp_0qnoejyp.txt',\n",
       " 'my_temp_0ukmbwad.txt',\n",
       " 'my_temp_0unxow0e.txt',\n",
       " 'my_temp_1_xfn48v.txt',\n",
       " 'my_temp_1lyz3hna.txt',\n",
       " 'my_temp_1mph2kg9.txt',\n",
       " 'my_temp_1n9vbojb.txt',\n",
       " 'my_temp_1wyi42if.txt',\n",
       " 'my_temp_1xdn7us0.txt',\n",
       " 'my_temp_21pxk5f1.txt',\n",
       " 'my_temp_26xzgs1e.txt',\n",
       " 'my_temp_281d3de3.txt',\n",
       " 'my_temp_28e6ri_p.txt',\n",
       " 'my_temp_2_qs5f0w.txt',\n",
       " 'my_temp_2hyhu4mi.txt',\n",
       " 'my_temp_2m037s13.txt',\n",
       " 'my_temp_2nf7bqek.txt',\n",
       " 'my_temp_2ns4byr_.txt',\n",
       " 'my_temp_2ucun9fs.txt',\n",
       " 'my_temp_32pdxh_v.txt',\n",
       " 'my_temp_345nr5a3.txt',\n",
       " 'my_temp_37r8bok0.txt',\n",
       " 'my_temp_391le4mi.txt',\n",
       " 'my_temp_39cjxsjt.txt',\n",
       " 'my_temp_3akgczm2.txt',\n",
       " 'my_temp_3li4nngh.txt',\n",
       " 'my_temp_3sybu5ht.txt',\n",
       " 'my_temp_473xomy3.txt',\n",
       " 'my_temp_4_4zeg81.txt',\n",
       " 'my_temp_4_kwg4eq.txt',\n",
       " 'my_temp_4f4zuo5b.txt',\n",
       " 'my_temp_4i1rid7v.txt',\n",
       " 'my_temp_4i_wxvc1.txt',\n",
       " 'my_temp_4p7upg7j.txt',\n",
       " 'my_temp_4v5fq1xe.txt',\n",
       " 'my_temp_4yk_4aif.txt',\n",
       " 'my_temp_51epcs73.txt',\n",
       " 'my_temp_540zrfnv.txt',\n",
       " 'my_temp_57uoc_tq.txt',\n",
       " 'my_temp_5_6jfsf6.txt',\n",
       " 'my_temp_5fqad6c7.txt',\n",
       " 'my_temp_5l4pyi4s.txt',\n",
       " 'my_temp_5mfemfpg.txt',\n",
       " 'my_temp_5vt9rb3l.txt',\n",
       " 'my_temp_5zw03wdr.txt',\n",
       " 'my_temp_65jugjub.txt',\n",
       " 'my_temp_68f7nqku.txt',\n",
       " 'my_temp_69y_bbri.txt',\n",
       " 'my_temp_6_28h2wm.txt',\n",
       " 'my_temp_6l_2aps4.txt',\n",
       " 'my_temp_6m5dtg_a.txt',\n",
       " 'my_temp_6qu8avag.txt',\n",
       " 'my_temp_6x5k8d8l.txt',\n",
       " 'my_temp_724cbr7p.txt',\n",
       " 'my_temp_72djcoit.txt',\n",
       " 'my_temp_7cbjh3_4.txt',\n",
       " 'my_temp_7csnaj_g.txt',\n",
       " 'my_temp_7e9x41xz.txt',\n",
       " 'my_temp_7gnewvb7.txt',\n",
       " 'my_temp_7hutp3sm.txt',\n",
       " 'my_temp_7i94z90i.txt',\n",
       " 'my_temp_7msn3ggi.txt',\n",
       " 'my_temp_7ttg0q42.txt',\n",
       " 'my_temp_7wowgwec.txt',\n",
       " 'my_temp_82tg4if4.txt',\n",
       " 'my_temp_8cwtviww.txt',\n",
       " 'my_temp_8hg0pw5p.txt',\n",
       " 'my_temp_8iifvupu.txt',\n",
       " 'my_temp_8iz8_y8z.txt',\n",
       " 'my_temp_8oyuh8r_.txt',\n",
       " 'my_temp_8uzlsv3y.txt',\n",
       " 'my_temp_96e3whbp.txt',\n",
       " 'my_temp__7bnxegq.txt',\n",
       " 'my_temp__c8xgfj0.txt',\n",
       " 'my_temp__davkikh.txt',\n",
       " 'my_temp__ehac3h3.txt',\n",
       " 'my_temp__glu2xox.txt',\n",
       " 'my_temp__it3tjcp.txt',\n",
       " 'my_temp__q342q2r.txt',\n",
       " 'my_temp__rmwl_cv.txt',\n",
       " 'my_temp_a496y31u.txt',\n",
       " 'my_temp_a62fl3se.txt',\n",
       " 'my_temp_a9gqn9ui.txt',\n",
       " 'my_temp_aa6pi4el.txt',\n",
       " 'my_temp_aboay2cl.txt',\n",
       " 'my_temp_aioldt66.txt',\n",
       " 'my_temp_aot6fbc3.txt',\n",
       " 'my_temp_aq0kcjn_.txt',\n",
       " 'my_temp_ay4jv3a8.txt',\n",
       " 'my_temp_b1550_xb.txt',\n",
       " 'my_temp_b4mhcy_r.txt',\n",
       " 'my_temp_b5g5kalo.txt',\n",
       " 'my_temp_b70tqvv1.txt',\n",
       " 'my_temp_bemgxo0m.txt',\n",
       " 'my_temp_bk891104.txt',\n",
       " 'my_temp_bkg5u0rv.txt',\n",
       " 'my_temp_bl743b76.txt',\n",
       " 'my_temp_c09dua5e.txt',\n",
       " 'my_temp_c71plsko.txt',\n",
       " 'my_temp_cdwutwlt.txt',\n",
       " 'my_temp_cevttkma.txt',\n",
       " 'my_temp_cvovifh6.txt',\n",
       " 'my_temp_cvwg58hj.txt',\n",
       " 'my_temp_cxl47bmx.txt',\n",
       " 'my_temp_cxodln2g.txt',\n",
       " 'my_temp_d3n47sb4.txt',\n",
       " 'my_temp_dc52h0a3.txt',\n",
       " 'my_temp_ddagzluv.txt',\n",
       " 'my_temp_df9dxm_d.txt',\n",
       " 'my_temp_dnhg499t.txt',\n",
       " 'my_temp_e1xddf4_.txt',\n",
       " 'my_temp_e31cwio0.txt',\n",
       " 'my_temp_e4dgdhrj.txt',\n",
       " 'my_temp_e_kc1pe6.txt',\n",
       " 'my_temp_f2qn529k.txt',\n",
       " 'my_temp_fcxq0_bb.txt',\n",
       " 'my_temp_fn6tha6x.txt',\n",
       " 'my_temp_fssujz6e.txt',\n",
       " 'my_temp_ft3myq34.txt',\n",
       " 'my_temp_fx4wm2xy.txt',\n",
       " 'my_temp_fyou6g7u.txt',\n",
       " 'my_temp_fz1y0rbu.txt',\n",
       " 'my_temp_g49tsuib.txt',\n",
       " 'my_temp_g_2nya77.txt',\n",
       " 'my_temp_g_mwx19y.txt',\n",
       " 'my_temp_gu5nxvd1.txt',\n",
       " 'my_temp_gz3gxi_2.txt',\n",
       " 'my_temp_h0_jyp28.txt',\n",
       " 'my_temp_h_1knqmp.txt',\n",
       " 'my_temp_hdks3w4d.txt',\n",
       " 'my_temp_hr9_u8og.txt',\n",
       " 'my_temp_hufrszqv.txt',\n",
       " 'my_temp_hy4ci8m0.txt',\n",
       " 'my_temp_i0j4sv21.txt',\n",
       " 'my_temp_i1ps61hm.txt',\n",
       " 'my_temp_i4qvp4vw.txt',\n",
       " 'my_temp_i8d9zisp.txt',\n",
       " 'my_temp_icv2l_g3.txt',\n",
       " 'my_temp_idhjl5kb.txt',\n",
       " 'my_temp_iih1djou.txt',\n",
       " 'my_temp_im0fqw2s.txt',\n",
       " 'my_temp_irjwua62.txt',\n",
       " 'my_temp_is_rj9rw.txt',\n",
       " 'my_temp_izixdjoe.txt',\n",
       " 'my_temp_j5pye2u0.txt',\n",
       " 'my_temp_j60xycf1.txt',\n",
       " 'my_temp_jd4qiupm.txt',\n",
       " 'my_temp_jfkj28nx.txt',\n",
       " 'my_temp_jj4sh710.txt',\n",
       " 'my_temp_jkdpflwy.txt',\n",
       " 'my_temp_jlcz6lxs.txt',\n",
       " 'my_temp_jnqn36dh.txt',\n",
       " 'my_temp_jo_go0om.txt',\n",
       " 'my_temp_jpk5cjbw.txt',\n",
       " 'my_temp_jqxc8rvq.txt',\n",
       " 'my_temp_jszd3mga.txt',\n",
       " 'my_temp_juo4dxey.txt',\n",
       " 'my_temp_k1ca7hf9.txt',\n",
       " 'my_temp_k6uqwvbw.txt',\n",
       " 'my_temp_k9hfa94n.txt',\n",
       " 'my_temp_kbbpo4p0.txt',\n",
       " 'my_temp_khqj071w.txt',\n",
       " 'my_temp_kklanmyv.txt',\n",
       " 'my_temp_kqpxscz7.txt',\n",
       " 'my_temp_kvv0hqzd.txt',\n",
       " 'my_temp_kxowhv1d.txt',\n",
       " 'my_temp_kz_bb5hx.txt',\n",
       " 'my_temp_l27dmivm.txt',\n",
       " 'my_temp_l83x6_6s.txt',\n",
       " 'my_temp_l8cu9nnz.txt',\n",
       " 'my_temp_l_iva1ga.txt',\n",
       " 'my_temp_lbgkuf7u.txt',\n",
       " 'my_temp_lc8urz6p.txt',\n",
       " 'my_temp_lj49u52r.txt',\n",
       " 'my_temp_lm1dzvb3.txt',\n",
       " 'my_temp_lmpnmfk9.txt',\n",
       " 'my_temp_lt5eul1u.txt',\n",
       " 'my_temp_m703uakb.txt',\n",
       " 'my_temp_m7_gfm9a.txt',\n",
       " 'my_temp_mbbtg4_4.txt',\n",
       " 'my_temp_mcro399_.txt',\n",
       " 'my_temp_mcx85mkv.txt',\n",
       " 'my_temp_md4h9x3o.txt',\n",
       " 'my_temp_mmgc6lo3.txt',\n",
       " 'my_temp_mnfbogxf.txt',\n",
       " 'my_temp_mqx_u9vc.txt',\n",
       " 'my_temp_mzaqrna5.txt',\n",
       " 'my_temp_n5nll670.txt',\n",
       " 'my_temp_np5g0b0i.txt',\n",
       " 'my_temp_npeuz8wg.txt',\n",
       " 'my_temp_npxiltvz.txt',\n",
       " 'my_temp_npy9b3x9.txt',\n",
       " 'my_temp_nskhyh1l.txt',\n",
       " 'my_temp_nsr_mitq.txt',\n",
       " 'my_temp_nwiowkwk.txt',\n",
       " 'my_temp_nx10gavz.txt',\n",
       " 'my_temp_o2ox98d4.txt',\n",
       " 'my_temp_o5ohmxob.txt',\n",
       " 'my_temp_oab_f02c.txt',\n",
       " 'my_temp_oceo3x_6.txt',\n",
       " 'my_temp_onbfh44x.txt',\n",
       " 'my_temp_onk581b9.txt',\n",
       " 'my_temp_oqblye3j.txt',\n",
       " 'my_temp_oqzwgj1i.txt',\n",
       " 'my_temp_otel75x4.txt',\n",
       " 'my_temp_owjg7z3h.txt',\n",
       " 'my_temp_oy6h24d4.txt',\n",
       " 'my_temp_p0m7m4zv.txt',\n",
       " 'my_temp_p2g404yn.txt',\n",
       " 'my_temp_pd0y5sdq.txt',\n",
       " 'my_temp_pd2r58x1.txt',\n",
       " 'my_temp_pnfb6wzb.txt',\n",
       " 'my_temp_psqc_fhe.txt',\n",
       " 'my_temp_pxoupueg.txt',\n",
       " 'my_temp_pze0s71c.txt',\n",
       " 'my_temp_qohhmjto.txt',\n",
       " 'my_temp_qvrcikde.txt',\n",
       " 'my_temp_qztnrf4l.txt',\n",
       " 'my_temp_r40oq5l7.txt',\n",
       " 'my_temp_rcye09eh.txt',\n",
       " 'my_temp_reqlqfk7.txt',\n",
       " 'my_temp_rhfory9e.txt',\n",
       " 'my_temp_rhze5h3h.txt',\n",
       " 'my_temp_rinaipsx.txt',\n",
       " 'my_temp_rm2xk0do.txt',\n",
       " 'my_temp_rrjlu_qg.txt',\n",
       " 'my_temp_rww4cm1f.txt',\n",
       " 'my_temp_rycw7zif.txt',\n",
       " 'my_temp_s00j8b_8.txt',\n",
       " 'my_temp_se03f0hx.txt',\n",
       " 'my_temp_shg_w0uh.txt',\n",
       " 'my_temp_sov7aeen.txt',\n",
       " 'my_temp_splqtwtf.txt',\n",
       " 'my_temp_ssvc_dt4.txt',\n",
       " 'my_temp_stmeykln.txt',\n",
       " 'my_temp_sujmp8zz.txt',\n",
       " 'my_temp_szxdvsr0.txt',\n",
       " 'my_temp_t0c5i_89.txt',\n",
       " 'my_temp_t1n1jxgn.txt',\n",
       " 'my_temp_t8e1fpry.txt',\n",
       " 'my_temp_tbf9f6u5.txt',\n",
       " 'my_temp_tcsdahen.txt',\n",
       " 'my_temp_texw2f5b.txt',\n",
       " 'my_temp_tfav84nq.txt',\n",
       " 'my_temp_thm4c9ik.txt',\n",
       " 'my_temp_tp_w6tgx.txt',\n",
       " 'my_temp_ujsuu5jk.txt',\n",
       " 'my_temp_una_2gtw.txt',\n",
       " 'my_temp_uvpcdn18.txt',\n",
       " 'my_temp_v1g26ofu.txt',\n",
       " 'my_temp_v7bl9_y9.txt',\n",
       " 'my_temp_vaa0i836.txt',\n",
       " 'my_temp_vaxn4yfn.txt',\n",
       " 'my_temp_vb92_6gb.txt',\n",
       " 'my_temp_vid8h983.txt',\n",
       " 'my_temp_vlpnfkhf.txt',\n",
       " 'my_temp_vuyjh6dc.txt',\n",
       " 'my_temp_w_apkjrz.txt',\n",
       " 'my_temp_w_mqrn4d.txt',\n",
       " 'my_temp_woavdwhi.txt',\n",
       " 'my_temp_wp8ya0r1.txt',\n",
       " 'my_temp_wq9cvy71.txt',\n",
       " 'my_temp_x13kxczw.txt',\n",
       " 'my_temp_x7l3kp4q.txt',\n",
       " 'my_temp_x8qopook.txt',\n",
       " 'my_temp_xah14ie4.txt',\n",
       " 'my_temp_xb347lh1.txt',\n",
       " 'my_temp_xesyvlur.txt',\n",
       " 'my_temp_xk_k5n07.txt',\n",
       " 'my_temp_xnnt3o2y.txt',\n",
       " 'my_temp_xnr4ufyn.txt',\n",
       " 'my_temp_xqsf0xyr.txt',\n",
       " 'my_temp_xt_89ibc.txt',\n",
       " 'my_temp_xwer5k5y.txt',\n",
       " 'my_temp_xyft4lb2.txt',\n",
       " 'my_temp_y0n9pnx8.txt',\n",
       " 'my_temp_y29wi1oh.txt',\n",
       " 'my_temp_y8uqjj8t.txt',\n",
       " 'my_temp_ygsqjyxi.txt',\n",
       " 'my_temp_ygxgld3r.txt',\n",
       " 'my_temp_yjx91nhh.txt',\n",
       " 'my_temp_yowv28xv.txt',\n",
       " 'my_temp_ytgj0xs1.txt',\n",
       " 'my_temp_yy6nucg2.txt',\n",
       " 'my_temp_yygjtxua.txt',\n",
       " 'my_temp_yztxl60q.txt',\n",
       " 'my_temp_z17ldz5r.txt',\n",
       " 'my_temp_z7uvij3u.txt',\n",
       " 'my_temp_z89r19yq.txt',\n",
       " 'my_temp_ze26s5mg.txt',\n",
       " 'my_temp_zfthptgw.txt',\n",
       " 'my_temp_zhh9004h.txt',\n",
       " 'my_temp_zkm7lebq.txt',\n",
       " 'requirements.txt']"
      ]
     },
     "execution_count": 36,
     "metadata": {},
     "output_type": "execute_result"
    }
   ],
   "source": [
    "rslt = s3_client.list_objects_v2(Bucket=FIRST_BUCKET)\n",
    "objects_list = []\n",
    "for key in rslt['Contents']:\n",
    "    objects_list.append(key['Key'])\n",
    "objects_list"
   ]
  },
  {
   "cell_type": "markdown",
   "id": "1b44d1b5-4b8c-4972-99c4-e5eb8b3489da",
   "metadata": {},
   "source": [
    "### Read Contents of one object\n",
    "* TBD"
   ]
  },
  {
   "cell_type": "markdown",
   "id": "66892516-9b07-46aa-a822-76a7c57597d5",
   "metadata": {},
   "source": [
    "### Copy Objects from a bucket to another bucket\n",
    "* TBD"
   ]
  },
  {
   "cell_type": "markdown",
   "id": "703b53b1-425a-4cbe-ab3c-a16a0ffe0f59",
   "metadata": {},
   "source": [
    "### Download objects to a local directory\n",
    "* TBD"
   ]
  },
  {
   "cell_type": "code",
   "execution_count": null,
   "id": "33cde339-51f2-45df-ba1c-4a32dc344b68",
   "metadata": {},
   "outputs": [],
   "source": []
  }
 ],
 "metadata": {
  "kernelspec": {
   "display_name": "Python 3 (ipykernel)",
   "language": "python",
   "name": "python3"
  },
  "language_info": {
   "codemirror_mode": {
    "name": "ipython",
    "version": 3
   },
   "file_extension": ".py",
   "mimetype": "text/x-python",
   "name": "python",
   "nbconvert_exporter": "python",
   "pygments_lexer": "ipython3",
   "version": "3.9.7"
  }
 },
 "nbformat": 4,
 "nbformat_minor": 5
}
