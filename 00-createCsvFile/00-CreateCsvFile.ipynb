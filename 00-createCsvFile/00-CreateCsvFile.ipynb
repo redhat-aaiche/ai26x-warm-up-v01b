{
 "cells": [
  {
   "cell_type": "markdown",
   "id": "a80e6c09-425f-4bbd-a2f7-0e9690ccc1cb",
   "metadata": {},
   "source": [
    "# Linear Regression"
   ]
  },
  {
   "cell_type": "markdown",
   "id": "820d2d23-0100-4751-a353-3ac5dc6d199e",
   "metadata": {},
   "source": [
    "Let's fabricate some data that shows a linear relationship between features and target value"
   ]
  },
  {
   "cell_type": "code",
   "execution_count": 1,
   "id": "dd101fc8-b02b-4b34-aecc-9338f39d7233",
   "metadata": {},
   "outputs": [
    {
     "name": "stdout",
     "output_type": "stream",
     "text": [
      "Requirement already satisfied: numpy in /home/aaiche/anaconda3/lib/python3.11/site-packages (1.23.5)\n"
     ]
    }
   ],
   "source": [
    "!pip install numpy"
   ]
  },
  {
   "cell_type": "code",
   "execution_count": 2,
   "id": "5c8fa4fb-1882-4b59-b5ae-a50ab4c4750c",
   "metadata": {},
   "outputs": [
    {
     "name": "stdout",
     "output_type": "stream",
     "text": [
      "Requirement already satisfied: pandas in /home/aaiche/anaconda3/lib/python3.11/site-packages (2.1.4)\n",
      "Requirement already satisfied: numpy<2,>=1.23.2 in /home/aaiche/anaconda3/lib/python3.11/site-packages (from pandas) (1.23.5)\n",
      "Requirement already satisfied: python-dateutil>=2.8.2 in /home/aaiche/anaconda3/lib/python3.11/site-packages (from pandas) (2.8.2)\n",
      "Requirement already satisfied: pytz>=2020.1 in /home/aaiche/anaconda3/lib/python3.11/site-packages (from pandas) (2023.3.post1)\n",
      "Requirement already satisfied: tzdata>=2022.1 in /home/aaiche/anaconda3/lib/python3.11/site-packages (from pandas) (2023.3)\n",
      "Requirement already satisfied: six>=1.5 in /home/aaiche/anaconda3/lib/python3.11/site-packages (from python-dateutil>=2.8.2->pandas) (1.16.0)\n"
     ]
    }
   ],
   "source": [
    "!pip install pandas"
   ]
  },
  {
   "cell_type": "code",
   "execution_count": 3,
   "id": "4a13c622-9d7b-4c23-bc5c-88a0f2cfff97",
   "metadata": {},
   "outputs": [],
   "source": [
    "import numpy as np\n",
    "import pandas as pd"
   ]
  },
  {
   "cell_type": "code",
   "execution_count": 4,
   "id": "eb90ec9c-9cde-4ed2-980a-cc541af23433",
   "metadata": {},
   "outputs": [],
   "source": [
    "def createRandomSortedList(num, start = 1, end = 100):\n",
    "    arr = np.random.choice(np.arange(start, end + 1), size=num, replace=False)\n",
    "    arr.sort()\n",
    "    return arr"
   ]
  },
  {
   "cell_type": "code",
   "execution_count": 5,
   "id": "81be3218-4a36-4371-aefd-2181d231326d",
   "metadata": {},
   "outputs": [
    {
     "data": {
      "text/plain": [
       "(1000, 3)"
      ]
     },
     "execution_count": 5,
     "metadata": {},
     "output_type": "execute_result"
    }
   ],
   "source": [
    "x = createRandomSortedList(1000, 1, 1000)\n",
    "r = np.random.normal(0, 0.1, 1000)\n",
    "y = (x + r) * 3 + 10\n",
    "df_m = pd.DataFrame(list(zip(x, y)), columns=['x','y'])\n",
    "df_m.insert(0, \"G\", \"M\")\n",
    "df_m.shape"
   ]
  },
  {
   "cell_type": "code",
   "execution_count": 6,
   "id": "642f96e9-19da-4e5b-a6ed-3b8bdf34f6b5",
   "metadata": {},
   "outputs": [
    {
     "data": {
      "text/plain": [
       "(1000, 3)"
      ]
     },
     "execution_count": 6,
     "metadata": {},
     "output_type": "execute_result"
    }
   ],
   "source": [
    "x = createRandomSortedList(1000, 1, 1000)\n",
    "r = np.random.normal(0, 0.1, 1000)\n",
    "y = (x + r) * 3 + 20\n",
    "df_f = pd.DataFrame(list(zip(x, y)), columns=['x','y'])\n",
    "df_f.insert(0, \"G\", \"F\")\n",
    "df_f.shape"
   ]
  },
  {
   "cell_type": "code",
   "execution_count": 7,
   "id": "00e00bd8-c0dd-4444-a9a2-72ea30432ee3",
   "metadata": {},
   "outputs": [],
   "source": [
    "df = [df_f, df_m]\n",
    "df = pd.concat(df, ignore_index=\"False\")\n",
    "#df"
   ]
  },
  {
   "cell_type": "code",
   "execution_count": 8,
   "id": "7ca51886-d967-49d3-8dce-00bdcdba9db5",
   "metadata": {},
   "outputs": [],
   "source": [
    "df['x2'] = np.random.normal(0, 10000, 2000)\n",
    "df['x3'] = np.random.normal(0, 30000, 2000)\n",
    "df['x4'] = np.random.normal(0, 50000, 2000)"
   ]
  },
  {
   "cell_type": "code",
   "execution_count": 9,
   "id": "b133e413-7703-420a-b2ed-97fc8240dfc3",
   "metadata": {},
   "outputs": [
    {
     "data": {
      "text/html": [
       "<div>\n",
       "<style scoped>\n",
       "    .dataframe tbody tr th:only-of-type {\n",
       "        vertical-align: middle;\n",
       "    }\n",
       "\n",
       "    .dataframe tbody tr th {\n",
       "        vertical-align: top;\n",
       "    }\n",
       "\n",
       "    .dataframe thead th {\n",
       "        text-align: right;\n",
       "    }\n",
       "</style>\n",
       "<table border=\"1\" class=\"dataframe\">\n",
       "  <thead>\n",
       "    <tr style=\"text-align: right;\">\n",
       "      <th></th>\n",
       "      <th>G</th>\n",
       "      <th>x</th>\n",
       "      <th>y</th>\n",
       "      <th>x2</th>\n",
       "      <th>x3</th>\n",
       "      <th>x4</th>\n",
       "    </tr>\n",
       "  </thead>\n",
       "  <tbody>\n",
       "    <tr>\n",
       "      <th>0</th>\n",
       "      <td>F</td>\n",
       "      <td>1</td>\n",
       "      <td>22.460171</td>\n",
       "      <td>-260.654457</td>\n",
       "      <td>23825.538411</td>\n",
       "      <td>-74215.272663</td>\n",
       "    </tr>\n",
       "    <tr>\n",
       "      <th>1</th>\n",
       "      <td>F</td>\n",
       "      <td>2</td>\n",
       "      <td>25.796070</td>\n",
       "      <td>876.413786</td>\n",
       "      <td>-31678.546984</td>\n",
       "      <td>-25737.046014</td>\n",
       "    </tr>\n",
       "    <tr>\n",
       "      <th>2</th>\n",
       "      <td>F</td>\n",
       "      <td>3</td>\n",
       "      <td>28.476692</td>\n",
       "      <td>-2237.967043</td>\n",
       "      <td>-3406.141546</td>\n",
       "      <td>-58918.699837</td>\n",
       "    </tr>\n",
       "    <tr>\n",
       "      <th>3</th>\n",
       "      <td>F</td>\n",
       "      <td>4</td>\n",
       "      <td>32.016176</td>\n",
       "      <td>6353.678057</td>\n",
       "      <td>11763.725616</td>\n",
       "      <td>36076.817032</td>\n",
       "    </tr>\n",
       "    <tr>\n",
       "      <th>4</th>\n",
       "      <td>F</td>\n",
       "      <td>5</td>\n",
       "      <td>35.084537</td>\n",
       "      <td>-10317.568804</td>\n",
       "      <td>8707.862851</td>\n",
       "      <td>42055.032277</td>\n",
       "    </tr>\n",
       "    <tr>\n",
       "      <th>...</th>\n",
       "      <td>...</td>\n",
       "      <td>...</td>\n",
       "      <td>...</td>\n",
       "      <td>...</td>\n",
       "      <td>...</td>\n",
       "      <td>...</td>\n",
       "    </tr>\n",
       "    <tr>\n",
       "      <th>1995</th>\n",
       "      <td>M</td>\n",
       "      <td>996</td>\n",
       "      <td>2998.115751</td>\n",
       "      <td>1377.986616</td>\n",
       "      <td>-20897.551135</td>\n",
       "      <td>-21517.486702</td>\n",
       "    </tr>\n",
       "    <tr>\n",
       "      <th>1996</th>\n",
       "      <td>M</td>\n",
       "      <td>997</td>\n",
       "      <td>3000.992587</td>\n",
       "      <td>844.689054</td>\n",
       "      <td>-6469.141073</td>\n",
       "      <td>-18144.025812</td>\n",
       "    </tr>\n",
       "    <tr>\n",
       "      <th>1997</th>\n",
       "      <td>M</td>\n",
       "      <td>998</td>\n",
       "      <td>3003.843101</td>\n",
       "      <td>-10014.637236</td>\n",
       "      <td>13664.455387</td>\n",
       "      <td>-45734.187628</td>\n",
       "    </tr>\n",
       "    <tr>\n",
       "      <th>1998</th>\n",
       "      <td>M</td>\n",
       "      <td>999</td>\n",
       "      <td>3006.557088</td>\n",
       "      <td>9446.011067</td>\n",
       "      <td>27796.447197</td>\n",
       "      <td>-67932.961819</td>\n",
       "    </tr>\n",
       "    <tr>\n",
       "      <th>1999</th>\n",
       "      <td>M</td>\n",
       "      <td>1000</td>\n",
       "      <td>3009.751897</td>\n",
       "      <td>-82.732137</td>\n",
       "      <td>5715.077555</td>\n",
       "      <td>-126220.440332</td>\n",
       "    </tr>\n",
       "  </tbody>\n",
       "</table>\n",
       "<p>2000 rows × 6 columns</p>\n",
       "</div>"
      ],
      "text/plain": [
       "      G     x            y            x2            x3             x4\n",
       "0     F     1    22.460171   -260.654457  23825.538411  -74215.272663\n",
       "1     F     2    25.796070    876.413786 -31678.546984  -25737.046014\n",
       "2     F     3    28.476692  -2237.967043  -3406.141546  -58918.699837\n",
       "3     F     4    32.016176   6353.678057  11763.725616   36076.817032\n",
       "4     F     5    35.084537 -10317.568804   8707.862851   42055.032277\n",
       "...  ..   ...          ...           ...           ...            ...\n",
       "1995  M   996  2998.115751   1377.986616 -20897.551135  -21517.486702\n",
       "1996  M   997  3000.992587    844.689054  -6469.141073  -18144.025812\n",
       "1997  M   998  3003.843101 -10014.637236  13664.455387  -45734.187628\n",
       "1998  M   999  3006.557088   9446.011067  27796.447197  -67932.961819\n",
       "1999  M  1000  3009.751897    -82.732137   5715.077555 -126220.440332\n",
       "\n",
       "[2000 rows x 6 columns]"
      ]
     },
     "execution_count": 9,
     "metadata": {},
     "output_type": "execute_result"
    }
   ],
   "source": [
    "#df = [df, x2]\n",
    "df"
   ]
  },
  {
   "cell_type": "code",
   "execution_count": 10,
   "id": "c40a5770-4763-4ca7-8a79-bb009afb7787",
   "metadata": {},
   "outputs": [
    {
     "data": {
      "text/html": [
       "<div>\n",
       "<style scoped>\n",
       "    .dataframe tbody tr th:only-of-type {\n",
       "        vertical-align: middle;\n",
       "    }\n",
       "\n",
       "    .dataframe tbody tr th {\n",
       "        vertical-align: top;\n",
       "    }\n",
       "\n",
       "    .dataframe thead th {\n",
       "        text-align: right;\n",
       "    }\n",
       "</style>\n",
       "<table border=\"1\" class=\"dataframe\">\n",
       "  <thead>\n",
       "    <tr style=\"text-align: right;\">\n",
       "      <th></th>\n",
       "      <th>G</th>\n",
       "      <th>x</th>\n",
       "      <th>y</th>\n",
       "      <th>x2</th>\n",
       "      <th>x3</th>\n",
       "      <th>x4</th>\n",
       "    </tr>\n",
       "  </thead>\n",
       "  <tbody>\n",
       "    <tr>\n",
       "      <th>0</th>\n",
       "      <td>F</td>\n",
       "      <td>791</td>\n",
       "      <td>2393.313916</td>\n",
       "      <td>17075.115922</td>\n",
       "      <td>-8521.801072</td>\n",
       "      <td>-43177.354927</td>\n",
       "    </tr>\n",
       "    <tr>\n",
       "      <th>1</th>\n",
       "      <td>F</td>\n",
       "      <td>598</td>\n",
       "      <td>1814.608058</td>\n",
       "      <td>-20959.442965</td>\n",
       "      <td>23558.726889</td>\n",
       "      <td>39994.459715</td>\n",
       "    </tr>\n",
       "    <tr>\n",
       "      <th>2</th>\n",
       "      <td>M</td>\n",
       "      <td>138</td>\n",
       "      <td>423.938506</td>\n",
       "      <td>-1554.930015</td>\n",
       "      <td>5724.977460</td>\n",
       "      <td>66341.765179</td>\n",
       "    </tr>\n",
       "    <tr>\n",
       "      <th>3</th>\n",
       "      <td>F</td>\n",
       "      <td>664</td>\n",
       "      <td>2011.672969</td>\n",
       "      <td>-5135.895368</td>\n",
       "      <td>52338.091782</td>\n",
       "      <td>-16928.910574</td>\n",
       "    </tr>\n",
       "    <tr>\n",
       "      <th>4</th>\n",
       "      <td>M</td>\n",
       "      <td>375</td>\n",
       "      <td>1135.072607</td>\n",
       "      <td>158.475468</td>\n",
       "      <td>717.122450</td>\n",
       "      <td>-13250.407033</td>\n",
       "    </tr>\n",
       "    <tr>\n",
       "      <th>...</th>\n",
       "      <td>...</td>\n",
       "      <td>...</td>\n",
       "      <td>...</td>\n",
       "      <td>...</td>\n",
       "      <td>...</td>\n",
       "      <td>...</td>\n",
       "    </tr>\n",
       "    <tr>\n",
       "      <th>1995</th>\n",
       "      <td>M</td>\n",
       "      <td>615</td>\n",
       "      <td>1855.283816</td>\n",
       "      <td>10993.076806</td>\n",
       "      <td>-61587.390437</td>\n",
       "      <td>17052.096100</td>\n",
       "    </tr>\n",
       "    <tr>\n",
       "      <th>1996</th>\n",
       "      <td>M</td>\n",
       "      <td>253</td>\n",
       "      <td>769.226707</td>\n",
       "      <td>-13878.167369</td>\n",
       "      <td>-1137.067817</td>\n",
       "      <td>86493.650507</td>\n",
       "    </tr>\n",
       "    <tr>\n",
       "      <th>1997</th>\n",
       "      <td>F</td>\n",
       "      <td>602</td>\n",
       "      <td>1826.424219</td>\n",
       "      <td>-11559.254497</td>\n",
       "      <td>-69553.012391</td>\n",
       "      <td>-6197.085481</td>\n",
       "    </tr>\n",
       "    <tr>\n",
       "      <th>1998</th>\n",
       "      <td>F</td>\n",
       "      <td>185</td>\n",
       "      <td>575.152016</td>\n",
       "      <td>-4625.828583</td>\n",
       "      <td>3147.081554</td>\n",
       "      <td>-56708.896197</td>\n",
       "    </tr>\n",
       "    <tr>\n",
       "      <th>1999</th>\n",
       "      <td>F</td>\n",
       "      <td>961</td>\n",
       "      <td>2902.506021</td>\n",
       "      <td>-9790.361947</td>\n",
       "      <td>-9453.040444</td>\n",
       "      <td>-2895.794375</td>\n",
       "    </tr>\n",
       "  </tbody>\n",
       "</table>\n",
       "<p>2000 rows × 6 columns</p>\n",
       "</div>"
      ],
      "text/plain": [
       "      G    x            y            x2            x3            x4\n",
       "0     F  791  2393.313916  17075.115922  -8521.801072 -43177.354927\n",
       "1     F  598  1814.608058 -20959.442965  23558.726889  39994.459715\n",
       "2     M  138   423.938506  -1554.930015   5724.977460  66341.765179\n",
       "3     F  664  2011.672969  -5135.895368  52338.091782 -16928.910574\n",
       "4     M  375  1135.072607    158.475468    717.122450 -13250.407033\n",
       "...  ..  ...          ...           ...           ...           ...\n",
       "1995  M  615  1855.283816  10993.076806 -61587.390437  17052.096100\n",
       "1996  M  253   769.226707 -13878.167369  -1137.067817  86493.650507\n",
       "1997  F  602  1826.424219 -11559.254497 -69553.012391  -6197.085481\n",
       "1998  F  185   575.152016  -4625.828583   3147.081554 -56708.896197\n",
       "1999  F  961  2902.506021  -9790.361947  -9453.040444  -2895.794375\n",
       "\n",
       "[2000 rows x 6 columns]"
      ]
     },
     "execution_count": 10,
     "metadata": {},
     "output_type": "execute_result"
    }
   ],
   "source": [
    "df_shuffled = df.sample(frac=1).reset_index(drop=True)\n",
    "df_shuffled"
   ]
  },
  {
   "cell_type": "code",
   "execution_count": 11,
   "id": "5fcf0ffb-597d-443b-a9be-c363febc33c1",
   "metadata": {},
   "outputs": [],
   "source": [
    "from numpy import NaN"
   ]
  },
  {
   "cell_type": "code",
   "execution_count": 12,
   "id": "95a3a0a0-7079-42c9-b803-4cf7fae83391",
   "metadata": {},
   "outputs": [
    {
     "name": "stderr",
     "output_type": "stream",
     "text": [
      "/tmp/ipykernel_57366/3883959557.py:2: SettingWithCopyWarning: \n",
      "A value is trying to be set on a copy of a slice from a DataFrame\n",
      "\n",
      "See the caveats in the documentation: https://pandas.pydata.org/pandas-docs/stable/user_guide/indexing.html#returning-a-view-versus-a-copy\n",
      "  df['x'].iloc[0] = NaN\n",
      "/tmp/ipykernel_57366/3883959557.py:3: SettingWithCopyWarning: \n",
      "A value is trying to be set on a copy of a slice from a DataFrame\n",
      "\n",
      "See the caveats in the documentation: https://pandas.pydata.org/pandas-docs/stable/user_guide/indexing.html#returning-a-view-versus-a-copy\n",
      "  df['y'].iloc[10] = NaN\n",
      "/tmp/ipykernel_57366/3883959557.py:4: SettingWithCopyWarning: \n",
      "A value is trying to be set on a copy of a slice from a DataFrame\n",
      "\n",
      "See the caveats in the documentation: https://pandas.pydata.org/pandas-docs/stable/user_guide/indexing.html#returning-a-view-versus-a-copy\n",
      "  df['x2'].iloc[20] = NaN\n",
      "/tmp/ipykernel_57366/3883959557.py:5: SettingWithCopyWarning: \n",
      "A value is trying to be set on a copy of a slice from a DataFrame\n",
      "\n",
      "See the caveats in the documentation: https://pandas.pydata.org/pandas-docs/stable/user_guide/indexing.html#returning-a-view-versus-a-copy\n",
      "  df['x3'].iloc[30] = NaN\n",
      "/tmp/ipykernel_57366/3883959557.py:6: SettingWithCopyWarning: \n",
      "A value is trying to be set on a copy of a slice from a DataFrame\n",
      "\n",
      "See the caveats in the documentation: https://pandas.pydata.org/pandas-docs/stable/user_guide/indexing.html#returning-a-view-versus-a-copy\n",
      "  df['x4'].iloc[40] = NaN\n"
     ]
    }
   ],
   "source": [
    "df = df_shuffled\n",
    "df['x'].iloc[0] = NaN\n",
    "df['y'].iloc[10] = NaN\n",
    "df['x2'].iloc[20] = NaN\n",
    "df['x3'].iloc[30] = NaN\n",
    "df['x4'].iloc[40] = NaN"
   ]
  },
  {
   "cell_type": "code",
   "execution_count": 13,
   "id": "6c594a11-50c4-4948-8792-51ef89740470",
   "metadata": {},
   "outputs": [
    {
     "name": "stderr",
     "output_type": "stream",
     "text": [
      "/tmp/ipykernel_57366/3525096035.py:1: SettingWithCopyWarning: \n",
      "A value is trying to be set on a copy of a slice from a DataFrame\n",
      "\n",
      "See the caveats in the documentation: https://pandas.pydata.org/pandas-docs/stable/user_guide/indexing.html#returning-a-view-versus-a-copy\n",
      "  df['y'].iloc[1] = df['y'].iloc[1] + 1000000000\n",
      "/tmp/ipykernel_57366/3525096035.py:2: SettingWithCopyWarning: \n",
      "A value is trying to be set on a copy of a slice from a DataFrame\n",
      "\n",
      "See the caveats in the documentation: https://pandas.pydata.org/pandas-docs/stable/user_guide/indexing.html#returning-a-view-versus-a-copy\n",
      "  df['y'].iloc[100] = df['y'].iloc[100] + 2000000000\n",
      "/tmp/ipykernel_57366/3525096035.py:3: SettingWithCopyWarning: \n",
      "A value is trying to be set on a copy of a slice from a DataFrame\n",
      "\n",
      "See the caveats in the documentation: https://pandas.pydata.org/pandas-docs/stable/user_guide/indexing.html#returning-a-view-versus-a-copy\n",
      "  df['y'].iloc[200] = df['y'].iloc[200] + 3000000000\n",
      "/tmp/ipykernel_57366/3525096035.py:4: SettingWithCopyWarning: \n",
      "A value is trying to be set on a copy of a slice from a DataFrame\n",
      "\n",
      "See the caveats in the documentation: https://pandas.pydata.org/pandas-docs/stable/user_guide/indexing.html#returning-a-view-versus-a-copy\n",
      "  df['y'].iloc[300] = df['y'].iloc[300] + 4000000000\n"
     ]
    }
   ],
   "source": [
    "df['y'].iloc[1] = df['y'].iloc[1] + 1000000000\n",
    "df['y'].iloc[100] = df['y'].iloc[100] + 2000000000\n",
    "df['y'].iloc[200] = df['y'].iloc[200] + 3000000000\n",
    "df['y'].iloc[300] = df['y'].iloc[300] + 4000000000\n"
   ]
  },
  {
   "cell_type": "code",
   "execution_count": null,
   "id": "fdd78c9b-d099-409a-a2cd-f8974cf60f86",
   "metadata": {},
   "outputs": [],
   "source": []
  },
  {
   "cell_type": "code",
   "execution_count": 14,
   "id": "5afe267c-eeea-4e6e-8d34-0c1f796f4bd8",
   "metadata": {},
   "outputs": [],
   "source": [
    "df.to_csv('data/myfile.csv', sep=',', index=False, encoding='utf-8')"
   ]
  },
  {
   "cell_type": "code",
   "execution_count": 15,
   "id": "ebda0fc3-0682-430b-a598-0d8fedf2baac",
   "metadata": {},
   "outputs": [
    {
     "name": "stdout",
     "output_type": "stream",
     "text": [
      "00-CreateCsvFile.ipynb\t00-Elyra-SCRIPT.txt  data\n"
     ]
    }
   ],
   "source": [
    "!ls\n"
   ]
  },
  {
   "cell_type": "code",
   "execution_count": 16,
   "id": "39f205fa-5a8a-4498-a9ea-74333c1f1801",
   "metadata": {},
   "outputs": [
    {
     "name": "stdout",
     "output_type": "stream",
     "text": [
      "/home/aaiche/Documents/00-Delivery/50-ML/80-AI267/01-warm-up/00-createCsvFile\n"
     ]
    }
   ],
   "source": [
    "!pwd"
   ]
  },
  {
   "cell_type": "code",
   "execution_count": null,
   "id": "3f4799b1-2025-4d52-86e4-7323aab0d2cf",
   "metadata": {},
   "outputs": [],
   "source": []
  },
  {
   "cell_type": "code",
   "execution_count": null,
   "id": "cd5af7b6-030b-42c6-a2fb-02731d01c229",
   "metadata": {},
   "outputs": [],
   "source": []
  }
 ],
 "metadata": {
  "kernelspec": {
   "display_name": "Python 3 (ipykernel)",
   "language": "python",
   "name": "python3"
  },
  "language_info": {
   "codemirror_mode": {
    "name": "ipython",
    "version": 3
   },
   "file_extension": ".py",
   "mimetype": "text/x-python",
   "name": "python",
   "nbconvert_exporter": "python",
   "pygments_lexer": "ipython3",
   "version": "3.11.5"
  }
 },
 "nbformat": 4,
 "nbformat_minor": 5
}
